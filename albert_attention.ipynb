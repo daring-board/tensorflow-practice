{
 "cells": [
  {
   "cell_type": "markdown",
   "metadata": {},
   "source": [
    "# Attentionの可視化"
   ]
  },
  {
   "cell_type": "markdown",
   "metadata": {},
   "source": [
    "このNotebookではALBERTモデルを転移学習によって、Livedoorニュースコーパスと呼ばれるデータセットを  \n",
    "分類問題として学習する。また、その分類結果の解釈をAttentionWeightを可視化することによって行う。  \n",
    "(https://www.rondhuit.com/download.html)"
   ]
  },
  {
   "cell_type": "markdown",
   "metadata": {},
   "source": [
    "## 準備\n",
    "必要なライブラリ群をインポート"
   ]
  },
  {
   "cell_type": "code",
   "execution_count": 1,
   "metadata": {
    "jupyter": {
     "source_hidden": true
    }
   },
   "outputs": [],
   "source": [
    "import os, re\n",
    "import glob, csv, time\n",
    "import pandas as pd\n",
    "import numpy as np\n",
    "import torch\n",
    "import torch.nn as nn\n",
    "import torch.nn.functional as F\n",
    "import torch.optim as optim\n",
    "from transformers import AutoTokenizer, AlbertForSequenceClassification\n",
    "from sklearn.metrics import classification_report\n",
    "from sklearn.model_selection import train_test_split\n",
    "\n",
    "import warnings\n",
    "warnings.filterwarnings('ignore')\n",
    "\n",
    "path = './text/'\n",
    "list_dir = {name: path + name + '/' for name in os.listdir(path) if not os.path.isfile(os.path.join(path, name))}"
   ]
  },
  {
   "cell_type": "markdown",
   "metadata": {},
   "source": [
    "## 前処理\n",
    "テキストデータの読み込みと前処理"
   ]
  },
  {
   "cell_type": "code",
   "execution_count": 2,
   "metadata": {
    "jupyter": {
     "source_hidden": true
    }
   },
   "outputs": [],
   "source": [
    "tsv_fname = \"./datasets/all_text.tsv\"\n",
    "brackets_tail = re.compile('【[^】]*】$')\n",
    "brackets_head = re.compile('^【[^】]*】')\n",
    "\n",
    "def remove_brackets(inp):\n",
    "    output = re.sub(brackets_head, '', re.sub(brackets_tail, '', inp))\n",
    "    return output\n",
    "\n",
    "def read_title_text(f):\n",
    "    # 2行スキップ\n",
    "    next(f)\n",
    "    next(f)\n",
    "    title = next(f) # 3行目を返す\n",
    "    title = remove_brackets(title)\n",
    "    text = ''.join([l.strip() for l in f])\n",
    "    return title[:-1], text\n",
    "\n",
    "with open(tsv_fname, \"w\", encoding='utf8') as wf:\n",
    "    for i, (k, v) in enumerate(list_dir.items()):\n",
    "        files = [fname for fname in glob.glob(v + '*.txt') if 'LICENSE.txt' not in fname]\n",
    "        for f_path in files:\n",
    "            title, text = read_title_text(open(f_path, 'r', encoding='utf-8'))\n",
    "            row = [k, '%d'%i, title, text]\n",
    "            wf.write('\\t'.join(row) + '\\n')"
   ]
  },
  {
   "cell_type": "code",
   "execution_count": 3,
   "metadata": {
    "jupyter": {
     "source_hidden": true
    }
   },
   "outputs": [
    {
     "name": "stdout",
     "output_type": "stream",
     "text": [
      "データサイズ： (7362, 4)\n"
     ]
    },
    {
     "data": {
      "text/html": [
       "<div>\n",
       "<style scoped>\n",
       "    .dataframe tbody tr th:only-of-type {\n",
       "        vertical-align: middle;\n",
       "    }\n",
       "\n",
       "    .dataframe tbody tr th {\n",
       "        vertical-align: top;\n",
       "    }\n",
       "\n",
       "    .dataframe thead th {\n",
       "        text-align: right;\n",
       "    }\n",
       "</style>\n",
       "<table border=\"1\" class=\"dataframe\">\n",
       "  <thead>\n",
       "    <tr style=\"text-align: right;\">\n",
       "      <th></th>\n",
       "      <th>name</th>\n",
       "      <th>label</th>\n",
       "      <th>title</th>\n",
       "      <th>sentence</th>\n",
       "    </tr>\n",
       "  </thead>\n",
       "  <tbody>\n",
       "    <tr>\n",
       "      <th>2991</th>\n",
       "      <td>livedoor-homme</td>\n",
       "      <td>3</td>\n",
       "      <td>年収1000万円のビジネスパーソンに聞いた「子供を進学させたい大学ランキング ベスト20」 ...</td>\n",
       "      <td>こんにちは。「ビズリーチ年収1000万円研究所」所長の佐藤和男です。この研究所では、年収10...</td>\n",
       "    </tr>\n",
       "    <tr>\n",
       "      <th>631</th>\n",
       "      <td>dokujo-tsushin</td>\n",
       "      <td>0</td>\n",
       "      <td>独身女のひな祭り</td>\n",
       "      <td>女の子の節句「ひな祭り」。バレンタインデー、ホワイトデーよりも忘れられがちだが、立派な日本の...</td>\n",
       "    </tr>\n",
       "    <tr>\n",
       "      <th>5080</th>\n",
       "      <td>smax</td>\n",
       "      <td>6</td>\n",
       "      <td>Samsung、LTE対応Android 4.0 ICS搭載スマートフォン「GALAXY R...</td>\n",
       "      <td>ゼロから始めるスマートフォンSamsung Electronics（サムスン電子）は5月31...</td>\n",
       "    </tr>\n",
       "    <tr>\n",
       "      <th>2974</th>\n",
       "      <td>livedoor-homme</td>\n",
       "      <td>3</td>\n",
       "      <td>Paul Smith | ポール・スミスが提案するスーツの現在進行形[5/5]</td>\n",
       "      <td>PS  Paul Smithトレンドの先を往く新鮮なシルエットがファッション感度をアピールす...</td>\n",
       "    </tr>\n",
       "    <tr>\n",
       "      <th>7029</th>\n",
       "      <td>topic-news</td>\n",
       "      <td>8</td>\n",
       "      <td>解散するSDN48への発言で秋元康に批判殺到</td>\n",
       "      <td>プロデューサーの秋元康氏が16日、Google＋上で3月31日に解散することが決まっているS...</td>\n",
       "    </tr>\n",
       "    <tr>\n",
       "      <th>5839</th>\n",
       "      <td>sports-watch</td>\n",
       "      <td>7</td>\n",
       "      <td>ショック、“鬼軍曹”山本小鉄氏が急逝</td>\n",
       "      <td>現役時代は、星野勘太郎氏とのタッグ「ヤマハブラザーズ」で活躍し、引退後は、新日本プロレスの鬼...</td>\n",
       "    </tr>\n",
       "    <tr>\n",
       "      <th>6379</th>\n",
       "      <td>sports-watch</td>\n",
       "      <td>7</td>\n",
       "      <td>五輪目指す山崎静代、芸能との両立には「両方をやってこそ意味がある」</td>\n",
       "      <td>日本テレビ「NEWS ZERO」（13日放送分）では、女子ボクシング全日本選手権で優勝し、ロ...</td>\n",
       "    </tr>\n",
       "    <tr>\n",
       "      <th>5202</th>\n",
       "      <td>smax</td>\n",
       "      <td>6</td>\n",
       "      <td>本日予約開始！AQUOS PHONE ZETA SH-09DとOptimus it L-05...</td>\n",
       "      <td>本日22日（金）から全国のドコモショップなどにて事前予約が開始されたスマートフォン「AQUO...</td>\n",
       "    </tr>\n",
       "    <tr>\n",
       "      <th>1797</th>\n",
       "      <td>kaden-channel</td>\n",
       "      <td>2</td>\n",
       "      <td>日本版HuluはHuluにしてHuluにあらず？</td>\n",
       "      <td>最近、米国のビデオオンデマンドサービス「Hulu」の日本語版サービスが開始されたが、個人的に...</td>\n",
       "    </tr>\n",
       "    <tr>\n",
       "      <th>2499</th>\n",
       "      <td>kaden-channel</td>\n",
       "      <td>2</td>\n",
       "      <td>オール電化の家庭に衝撃！　経産省専門委がオール電化割引に廃止要請</td>\n",
       "      <td>キッチンや風呂のエネルギーも電気でまかなうのが「オール電化」。取り入れている家庭も多いだろう...</td>\n",
       "    </tr>\n",
       "  </tbody>\n",
       "</table>\n",
       "</div>"
      ],
      "text/plain": [
       "                name  label  \\\n",
       "2991  livedoor-homme      3   \n",
       "631   dokujo-tsushin      0   \n",
       "5080            smax      6   \n",
       "2974  livedoor-homme      3   \n",
       "7029      topic-news      8   \n",
       "5839    sports-watch      7   \n",
       "6379    sports-watch      7   \n",
       "5202            smax      6   \n",
       "1797   kaden-channel      2   \n",
       "2499   kaden-channel      2   \n",
       "\n",
       "                                                  title  \\\n",
       "2991  年収1000万円のビジネスパーソンに聞いた「子供を進学させたい大学ランキング ベスト20」 ...   \n",
       "631                                            独身女のひな祭り   \n",
       "5080  Samsung、LTE対応Android 4.0 ICS搭載スマートフォン「GALAXY R...   \n",
       "2974            Paul Smith | ポール・スミスが提案するスーツの現在進行形[5/5]   \n",
       "7029                             解散するSDN48への発言で秋元康に批判殺到   \n",
       "5839                                 ショック、“鬼軍曹”山本小鉄氏が急逝   \n",
       "6379                  五輪目指す山崎静代、芸能との両立には「両方をやってこそ意味がある」   \n",
       "5202  本日予約開始！AQUOS PHONE ZETA SH-09DとOptimus it L-05...   \n",
       "1797                           日本版HuluはHuluにしてHuluにあらず？   \n",
       "2499                   オール電化の家庭に衝撃！　経産省専門委がオール電化割引に廃止要請   \n",
       "\n",
       "                                               sentence  \n",
       "2991  こんにちは。「ビズリーチ年収1000万円研究所」所長の佐藤和男です。この研究所では、年収10...  \n",
       "631   女の子の節句「ひな祭り」。バレンタインデー、ホワイトデーよりも忘れられがちだが、立派な日本の...  \n",
       "5080  ゼロから始めるスマートフォンSamsung Electronics（サムスン電子）は5月31...  \n",
       "2974  PS  Paul Smithトレンドの先を往く新鮮なシルエットがファッション感度をアピールす...  \n",
       "7029  プロデューサーの秋元康氏が16日、Google＋上で3月31日に解散することが決まっているS...  \n",
       "5839  現役時代は、星野勘太郎氏とのタッグ「ヤマハブラザーズ」で活躍し、引退後は、新日本プロレスの鬼...  \n",
       "6379  日本テレビ「NEWS ZERO」（13日放送分）では、女子ボクシング全日本選手権で優勝し、ロ...  \n",
       "5202  本日22日（金）から全国のドコモショップなどにて事前予約が開始されたスマートフォン「AQUO...  \n",
       "1797  最近、米国のビデオオンデマンドサービス「Hulu」の日本語版サービスが開始されたが、個人的に...  \n",
       "2499  キッチンや風呂のエネルギーも電気でまかなうのが「オール電化」。取り入れている家庭も多いだろう...  "
      ]
     },
     "execution_count": 3,
     "metadata": {},
     "output_type": "execute_result"
    }
   ],
   "source": [
    "cols = ['name', 'label', 'title', 'sentence']\n",
    "# データの読み込み\n",
    "df = pd.read_csv(tsv_fname, delimiter='\\t', header=None, names=cols)\n",
    "df = df.dropna(subset=['sentence'])\n",
    "\n",
    "# データの確認\n",
    "print(f'データサイズ： {df.shape}')\n",
    "df.sample(10)"
   ]
  },
  {
   "cell_type": "markdown",
   "metadata": {},
   "source": [
    "## 学習済みモデルのロード\n",
    "今回はHuggingFaceの[Transformers](https://huggingface.co/transformers/) というライブラリからダウンロード可能なモデルを使用する。\n",
    "\n",
    "\n"
   ]
  },
  {
   "cell_type": "code",
   "execution_count": 4,
   "metadata": {
    "jupyter": {
     "source_hidden": true
    }
   },
   "outputs": [
    {
     "name": "stderr",
     "output_type": "stream",
     "text": [
      "Some weights of the model checkpoint at ALINEAR/albert-japanese-v2 were not used when initializing AlbertForSequenceClassification: ['predictions.bias', 'predictions.LayerNorm.weight', 'predictions.LayerNorm.bias', 'predictions.dense.weight', 'predictions.dense.bias', 'predictions.decoder.weight', 'predictions.decoder.bias']\n",
      "- This IS expected if you are initializing AlbertForSequenceClassification from the checkpoint of a model trained on another task or with another architecture (e.g. initializing a BertForSequenceClassification model from a BertForPretraining model).\n",
      "- This IS NOT expected if you are initializing AlbertForSequenceClassification from the checkpoint of a model that you expect to be exactly identical (initializing a BertForSequenceClassification model from a BertForSequenceClassification model).\n",
      "Some weights of AlbertForSequenceClassification were not initialized from the model checkpoint at ALINEAR/albert-japanese-v2 and are newly initialized: ['classifier.weight', 'classifier.bias']\n",
      "You should probably TRAIN this model on a down-stream task to be able to use it for predictions and inference.\n"
     ]
    }
   ],
   "source": [
    "model_path = \"ALINEAR/albert-japanese-v2\"\n",
    "tokenizer = AutoTokenizer.from_pretrained(model_path)\n",
    "model = AlbertForSequenceClassification.from_pretrained(model_path, num_labels=len(list_dir), output_attentions=True)\n",
    "\n",
    "device = \"cuda:0\"\n",
    "model.train()\n",
    "model.to(device)\n",
    "\n",
    "optimizer = optim.Adam([\n",
    "    {'params': model.albert.encoder.parameters(), 'lr': 5e-5},\n",
    "    {'params': model.classifier.parameters(), 'lr': 5e-5}\n",
    "], betas=(0.9, 0.999))"
   ]
  },
  {
   "cell_type": "markdown",
   "metadata": {},
   "source": [
    "## 前処理（つづき）\n",
    "プレーンなテキストを学習済みのモデルに合ったトークン化を行い、学習データと検証データに分ける。"
   ]
  },
  {
   "cell_type": "code",
   "execution_count": 5,
   "metadata": {
    "jupyter": {
     "source_hidden": true
    }
   },
   "outputs": [],
   "source": [
    "max_len = 256\n",
    "\n",
    "def tokenize(x):\n",
    "    x = tokenizer.tokenize(x)\n",
    "    x = tokenizer.convert_tokens_to_ids(x)\n",
    "    if len(x) > max_len:\n",
    "        x = x[:max_len]\n",
    "    else:\n",
    "        num = max_len - len(x)\n",
    "        x = x + [0 for _ in range(num)]\n",
    "    return x\n",
    "\n",
    "def to_ids(x):\n",
    "    x = tokenizer.tokenize(x)\n",
    "    if len(x) > max_len:\n",
    "        x = x[:max_len]\n",
    "    else:\n",
    "        num = max_len - len(x)\n",
    "        x = x + ['-' for _ in range(num)]\n",
    "    return x\n",
    "\n",
    "df['tokens'] = df['sentence'].apply(tokenize)\n",
    "df['tokenized_text'] = df['sentence'].apply(to_ids)"
   ]
  },
  {
   "cell_type": "code",
   "execution_count": 6,
   "metadata": {
    "jupyter": {
     "source_hidden": true
    }
   },
   "outputs": [],
   "source": [
    "df_train, df_test = train_test_split(df[['label', 'tokens', 'tokenized_text']], test_size=0.3, random_state=42)\n",
    "df_train.to_csv('./datasets/train.csv')\n",
    "df_test.to_csv('./datasets/test.csv')"
   ]
  },
  {
   "cell_type": "code",
   "execution_count": 7,
   "metadata": {
    "jupyter": {
     "source_hidden": true
    }
   },
   "outputs": [
    {
     "name": "stdout",
     "output_type": "stream",
     "text": [
      "(5153, 3)\n",
      "644\n",
      "(2209, 3)\n",
      "276\n"
     ]
    }
   ],
   "source": [
    "BATCH_SIZE = 8\n",
    "\n",
    "steps_per_epoch = int(df_train.shape[0] / BATCH_SIZE)\n",
    "print(df_train.shape)\n",
    "print(steps_per_epoch)\n",
    "\n",
    "valid_steps = int(df_test.shape[0] / BATCH_SIZE)\n",
    "print(df_test.shape)\n",
    "print(valid_steps)"
   ]
  },
  {
   "cell_type": "markdown",
   "metadata": {},
   "source": [
    "## 学習を実行する"
   ]
  },
  {
   "cell_type": "code",
   "execution_count": 8,
   "metadata": {
    "jupyter": {
     "source_hidden": true
    }
   },
   "outputs": [],
   "source": [
    "def calc_acc(predictions, ground_truths, batch, batch_size):\n",
    "    tmp = []\n",
    "    for i in range(len(predictions)):\n",
    "        for j in range(batch_size):\n",
    "            tmp.append(1 if predictions[i][j] == ground_truths[i][j] else 0)\n",
    "    acc = sum(tmp) / (batch_size * batch)\n",
    "    return acc\n",
    "\n",
    "def exec_model(df, steps_per_epoch, phase='train'):\n",
    "    t_iter_start = time.time()\n",
    "    predictions, ground_truths = [], []\n",
    "    epoch_loss = 0\n",
    "\n",
    "    for batch in range(steps_per_epoch):\n",
    "        iteration = batch + 1\n",
    "        start, end = batch * BATCH_SIZE, (batch + 1) * BATCH_SIZE\n",
    "        inputs = torch.tensor(df['tokens'].values[start: end].tolist())\n",
    "        labels = torch.tensor(df['label'].values[start: end].tolist())\n",
    "        # GPUにデータを送る\n",
    "        inputs = inputs.to(device)\n",
    "        labels = labels.to(device)\n",
    "\n",
    "        optimizer.zero_grad()\n",
    "        # 順伝搬（forward）計算\n",
    "        with torch.set_grad_enabled(phase == 'train'):\n",
    "            outputs = model(input_ids=inputs, labels=labels)\n",
    "            loss, logit = outputs[:2]\n",
    "            _, preds = torch.max(logit, 1)  # ラベルを予測\n",
    "            predictions.append(preds.cpu().numpy())\n",
    "            ground_truths.append(labels.data.cpu().numpy())\n",
    "\n",
    "            if phase == 'train':\n",
    "                loss.backward()\n",
    "                optimizer.step()\n",
    "\n",
    "            if (iteration % 100 == 0):\n",
    "                t_iter_finish = time.time()\n",
    "                duration = t_iter_finish - t_iter_start\n",
    "                acc = calc_acc(predictions, ground_truths, iteration, BATCH_SIZE)\n",
    "                if phase == 'train':\n",
    "                    print('イテレーション {}|| Loss: {:.4f}|| 100iter: {:.4f} sec|| 正解率：{:.4f}'.format(iteration, loss.item(), duration, acc))\n",
    "                else:\n",
    "                    print('Valid Step: {}|| Loss: {:.4f}|| 100iter: {:.4f} sec|| 正解率：{:.4f}'.format(iteration, loss.item(), duration, acc))\n",
    "                t_iter_start = time.time()\n",
    "        epoch_loss += loss.item()\n",
    "        del inputs, labels\n",
    "    acc = calc_acc(predictions, ground_truths, iteration, BATCH_SIZE)\n",
    "    return acc, epoch_loss, (np.array(predictions).flatten(), np.array(ground_truths).flatten())\n",
    "\n",
    "predictions, ground_truths = [], []\n",
    "\n",
    "is_train = False\n",
    "if is_train:\n",
    "    num_epochs = 10\n",
    "    for epoch in range(1, num_epochs + 1):\n",
    "        t_epoch_start = time.time()\n",
    "        epoch_acc, epoch_loss, _ = exec_model(df_train, steps_per_epoch)\n",
    "\n",
    "        # epochごとのlossと正解率\n",
    "        t_epoch_finish = time.time()\n",
    "        duration = t_epoch_finish - t_epoch_start\n",
    "        template = 'Epoch {}: {:.4f} sec. || Loss: {:.4f} || 正解率：{}'\n",
    "        print(template.format(epoch, duration, epoch_loss, epoch_acc))\n",
    "\n",
    "        t_epoch_start = time.time()\n",
    "        valid_acc, valid_loss, y = exec_model(df_test, valid_steps, phase='valid')\n",
    "        print(classification_report(y[1], y[0]))\n",
    "        t_epoch_finish = time.time()\n",
    "        duration = t_epoch_finish - t_epoch_start\n",
    "        template = 'Valid {}: {:.4f} sec. || Loss: {:.4f} || 正解率：{}'\n",
    "        print(template.format(epoch, duration, valid_loss, valid_acc))\n",
    "\n",
    "        model.save_pretrained('./checkpoints/')\n",
    "        t_epoch_start = time.time()"
   ]
  },
  {
   "cell_type": "code",
   "execution_count": 9,
   "metadata": {
    "jupyter": {
     "source_hidden": true
    }
   },
   "outputs": [
    {
     "data": {
      "text/html": [
       "<div>\n",
       "<style scoped>\n",
       "    .dataframe tbody tr th:only-of-type {\n",
       "        vertical-align: middle;\n",
       "    }\n",
       "\n",
       "    .dataframe tbody tr th {\n",
       "        vertical-align: top;\n",
       "    }\n",
       "\n",
       "    .dataframe thead th {\n",
       "        text-align: right;\n",
       "    }\n",
       "</style>\n",
       "<table border=\"1\" class=\"dataframe\">\n",
       "  <thead>\n",
       "    <tr style=\"text-align: right;\">\n",
       "      <th></th>\n",
       "      <th>label</th>\n",
       "      <th>tokens</th>\n",
       "      <th>tokenized_text</th>\n",
       "    </tr>\n",
       "  </thead>\n",
       "  <tbody>\n",
       "    <tr>\n",
       "      <th>6338</th>\n",
       "      <td>7</td>\n",
       "      <td>[16, 29, 26, 145, 36, 4780, 73, 1577, 5, 99, 3...</td>\n",
       "      <td>[▁, 1, 月, 30, 日, 08, :, 00, (, 日本, 時間, ), 時点で,...</td>\n",
       "    </tr>\n",
       "    <tr>\n",
       "      <th>1919</th>\n",
       "      <td>2</td>\n",
       "      <td>[16, 5683, 31, 5928, 2005, 2763, 42, 2001, 13,...</td>\n",
       "      <td>[▁, 子ども, や, ペット, がいる, 家庭, では, 部屋, の, 水, 拭, き, ...</td>\n",
       "    </tr>\n",
       "    <tr>\n",
       "      <th>4396</th>\n",
       "      <td>5</td>\n",
       "      <td>[16, 15131, 11187, 2268, 120, 5348, 108, 252, ...</td>\n",
       "      <td>[▁, 誕生日, と並んで, 相手, への, 贈, り, 物, に, “, 気, 合い, ”...</td>\n",
       "    </tr>\n",
       "    <tr>\n",
       "      <th>4963</th>\n",
       "      <td>6</td>\n",
       "      <td>[16, 16549, 13, 910, 20682, 9444, 27, 110, 123...</td>\n",
       "      <td>[▁, シャープ, の, ハイ, スペック, スマートフォン, 「, a, qu, os, ...</td>\n",
       "    </tr>\n",
       "    <tr>\n",
       "      <th>5421</th>\n",
       "      <td>6</td>\n",
       "      <td>[16, 14682, 14547, 442, 2110, 16, 4377, 16, 25...</td>\n",
       "      <td>[▁, gal, ax, y, ▁s, ▁, iii, ▁, sc, -, 06, d, の...</td>\n",
       "    </tr>\n",
       "  </tbody>\n",
       "</table>\n",
       "</div>"
      ],
      "text/plain": [
       "      label                                             tokens  \\\n",
       "6338      7  [16, 29, 26, 145, 36, 4780, 73, 1577, 5, 99, 3...   \n",
       "1919      2  [16, 5683, 31, 5928, 2005, 2763, 42, 2001, 13,...   \n",
       "4396      5  [16, 15131, 11187, 2268, 120, 5348, 108, 252, ...   \n",
       "4963      6  [16, 16549, 13, 910, 20682, 9444, 27, 110, 123...   \n",
       "5421      6  [16, 14682, 14547, 442, 2110, 16, 4377, 16, 25...   \n",
       "\n",
       "                                         tokenized_text  \n",
       "6338  [▁, 1, 月, 30, 日, 08, :, 00, (, 日本, 時間, ), 時点で,...  \n",
       "1919  [▁, 子ども, や, ペット, がいる, 家庭, では, 部屋, の, 水, 拭, き, ...  \n",
       "4396  [▁, 誕生日, と並んで, 相手, への, 贈, り, 物, に, “, 気, 合い, ”...  \n",
       "4963  [▁, シャープ, の, ハイ, スペック, スマートフォン, 「, a, qu, os, ...  \n",
       "5421  [▁, gal, ax, y, ▁s, ▁, iii, ▁, sc, -, 06, d, の...  "
      ]
     },
     "execution_count": 9,
     "metadata": {},
     "output_type": "execute_result"
    }
   ],
   "source": [
    "torch.cuda.empty_cache()\n",
    "\n",
    "model = AlbertForSequenceClassification.from_pretrained('./checkpoints/')\n",
    "model.eval()\n",
    "model.to(device)\n",
    "\n",
    "inputs = torch.tensor(df_test['tokens'].values[:10].tolist())\n",
    "inputs = inputs.to(device)\n",
    "\n",
    "df_test.head()"
   ]
  },
  {
   "cell_type": "markdown",
   "metadata": {},
   "source": [
    "## Attentionを可視化する\n",
    "ALBERTが文章を分類する際に注目したトークンにハイライトを当てる。  \n",
    "より注目したトークンには、より強くハイライトする。"
   ]
  },
  {
   "cell_type": "code",
   "execution_count": 10,
   "metadata": {
    "jupyter": {
     "source_hidden": true
    }
   },
   "outputs": [],
   "source": [
    "start, end = 0, 10\n",
    "inputs = torch.tensor(df_test['tokens'].values[start: end].tolist())\n",
    "labels = torch.tensor(df_test['label'].values[start: end].tolist())\n",
    "\n",
    "def compute_attentions(sentence, target_class_idx):\n",
    "    logit, attention = model(sentence, output_attentions=True)\n",
    "    _, preds = torch.max(logit, 1)\n",
    "    sum_attention = torch.sum(attention[0], 1)[:, 0, :]\n",
    "    for i in range(1, len(attention)):\n",
    "        sum_attention = torch.add(sum_attention, torch.sum(attention[i], 1)[:, 0, :])\n",
    "    return sum_attention, preds\n",
    "    \n",
    "attentions, preds = compute_attentions(inputs.to(device), labels)"
   ]
  },
  {
   "cell_type": "code",
   "execution_count": 11,
   "metadata": {
    "jupyter": {
     "source_hidden": true
    }
   },
   "outputs": [
    {
     "name": "stdout",
     "output_type": "stream",
     "text": [
      "predict class is sports-watch\n",
      "ground truth class is sports-watch\n"
     ]
    },
    {
     "data": {
      "text/html": [
       "<span style=\"background-color: #f8ffff\">▁</span><span style=\"background-color: #feffff\">1</span><span style=\"background-color: #fdffff\">月</span><span style=\"background-color: #fdffff\">30</span><span style=\"background-color: #feffff\">日</span><span style=\"background-color: #f7ffff\">08</span><span style=\"background-color: #bcffff\">:</span><span style=\"background-color: #f9ffff\">00</span><span style=\"background-color: #fbffff\">(</span><span style=\"background-color: #f0ffff\">日本</span><span style=\"background-color: #f9ffff\">時間</span><span style=\"background-color: #fdffff\">)</span><span style=\"background-color: #fbffff\">時点で</span><span style=\"background-color: #fcffff\">、</span><span style=\"background-color: #fdffff\">c</span><span style=\"background-color: #eeffff\">ska</span><span style=\"background-color: #f3ffff\">モスクワ</span><span style=\"background-color: #fbffff\">(</span><span style=\"background-color: #f4ffff\">ロシア</span><span style=\"background-color: #feffff\">)</span><span style=\"background-color: #fcffff\">に所属する</span><span style=\"background-color: #48ffff\">日本代表</span><span style=\"background-color: #e4ffff\">mf</span><span style=\"background-color: #edffff\">本田</span><span style=\"background-color: #f2ffff\">圭</span><span style=\"background-color: #f7ffff\">佑</span><span style=\"background-color: #ffffff\">の</span><span style=\"background-color: #f2ffff\">移籍</span><span style=\"background-color: #feffff\">はまだ</span><span style=\"background-color: #faffff\">確定</span><span style=\"background-color: #feffff\">していない</span><span style=\"background-color: #f2ffff\">。</span><span style=\"background-color: #fbffff\">25</span><span style=\"background-color: #feffff\">日</span><span style=\"background-color: #fbffff\">時点で</span><span style=\"background-color: #f8ffff\">ファン</span><span style=\"background-color: #ffffff\">の</span><span style=\"background-color: #fbffff\">「</span><span style=\"background-color: #f5ffff\">会見</span><span style=\"background-color: #ffffff\">まで</span><span style=\"background-color: #feffff\">信じ</span><span style=\"background-color: #ffffff\">ない</span><span style=\"background-color: #feffff\">」</span><span style=\"background-color: #faffff\">▁</span><span style=\"background-color: #f6ffff\">という</span><span style=\"background-color: #f3ffff\">反響</span><span style=\"background-color: #ffffff\">を</span><span style=\"background-color: #f7ffff\">紹介した</span><span style=\"background-color: #feffff\">が</span><span style=\"background-color: #fcffff\">、</span><span style=\"background-color: #ffffff\">この</span><span style=\"background-color: #fbffff\">声</span><span style=\"background-color: #ffffff\">の</span><span style=\"background-color: #feffff\">とおり</span><span style=\"background-color: #fcffff\">、</span><span style=\"background-color: #f1ffff\">本田</span><span style=\"background-color: #feffff\">の</span><span style=\"background-color: #f4ffff\">移籍</span><span style=\"background-color: #ffffff\">は</span><span style=\"background-color: #e8ffff\">報道</span><span style=\"background-color: #fcffff\">ばかり</span><span style=\"background-color: #feffff\">が</span><span style=\"background-color: #fdffff\">先行</span><span style=\"background-color: #ffffff\">している</span><span style=\"background-color: #fdffff\">状態</span><span style=\"background-color: #fdffff\">だ</span><span style=\"background-color: #f1ffff\">。</span><span style=\"background-color: #f0ffff\">移籍</span><span style=\"background-color: #fdffff\">について</span><span style=\"background-color: #feffff\">「</span><span style=\"background-color: #f9ffff\">合意</span><span style=\"background-color: #fdffff\">」</span><span style=\"background-color: #feffff\">と</span><span style=\"background-color: #fbffff\">報</span><span style=\"background-color: #ffffff\">じ</span><span style=\"background-color: #ffffff\">ている</span><span style=\"background-color: #ffffff\">の</span><span style=\"background-color: #ffffff\">は</span><span style=\"background-color: #fdffff\">特定の</span><span style=\"background-color: #f6ffff\">媒体</span><span style=\"background-color: #feffff\">であり</span><span style=\"background-color: #fdffff\">、</span><span style=\"background-color: #fdffff\">その他の</span><span style=\"background-color: #fbffff\">メディア</span><span style=\"background-color: #ffffff\">では</span><span style=\"background-color: #ffffff\">様々な</span><span style=\"background-color: #c2ffff\">見方</span><span style=\"background-color: #ffffff\">が</span><span style=\"background-color: #ffffff\">目立つ</span><span style=\"background-color: #f2ffff\">。</span><span style=\"background-color: #f6ffff\">so</span><span style=\"background-color: #f4ffff\">cc</span><span style=\"background-color: #fcffff\">er</span><span style=\"background-color: #faffff\">▁</span><span style=\"background-color: #ecffff\">journal</span><span style=\"background-color: #f0ffff\">編集部</span><span style=\"background-color: #ffffff\">は</span><span style=\"background-color: #fbffff\">「</span><span style=\"background-color: #f3ffff\">本田</span><span style=\"background-color: #f8ffff\">圭</span><span style=\"background-color: #f6ffff\">佑</span><span style=\"background-color: #ffffff\">は</span><span style=\"background-color: #ffffff\">1</span><span style=\"background-color: #fdffff\">月</span><span style=\"background-color: #ffffff\">中</span><span style=\"background-color: #f7ffff\">に移籍</span><span style=\"background-color: #ffffff\">する</span><span style=\"background-color: #fbffff\">?」</span><span style=\"background-color: #feffff\">という</span><span style=\"background-color: #fcffff\">読者</span><span style=\"background-color: #f6ffff\">アンケート</span><span style=\"background-color: #ffffff\">を</span><span style=\"background-color: #feffff\">募</span><span style=\"background-color: #ffffff\">ったが</span><span style=\"background-color: #feffff\">、</span><span style=\"background-color: #fdffff\">30</span><span style=\"background-color: #feffff\">日</span><span style=\"background-color: #feffff\">11</span><span style=\"background-color: #94ffff\">:</span><span style=\"background-color: #f8ffff\">00</span><span style=\"background-color: #feffff\">現在</span><span style=\"background-color: #ffffff\">で</span><span style=\"background-color: #fdffff\">「</span><span style=\"background-color: #feffff\">ラ</span><span style=\"background-color: #faffff\">ツィオ</span><span style=\"background-color: #f9ffff\">移籍</span><span style=\"background-color: #fdffff\">」</span><span style=\"background-color: #feffff\">という</span><span style=\"background-color: #fcffff\">意見</span><span style=\"background-color: #fdffff\">は約</span><span style=\"background-color: #feffff\">5</span><span style=\"background-color: #faffff\">7%</span><span style=\"background-color: #faffff\">。</span><span style=\"background-color: #feffff\">およそ</span><span style=\"background-color: #feffff\">4</span><span style=\"background-color: #ffffff\">割</span><span style=\"background-color: #ffffff\">は</span><span style=\"background-color: #fdffff\">、</span><span style=\"background-color: #feffff\">ラ</span><span style=\"background-color: #f4ffff\">ツィオ</span><span style=\"background-color: #c4ffff\">への移籍</span><span style=\"background-color: #f3ffff\">を信じ</span><span style=\"background-color: #f6ffff\">ていない</span><span style=\"background-color: #f6ffff\">。</span><span style=\"background-color: #fbffff\">30</span><span style=\"background-color: #feffff\">日</span><span style=\"background-color: #fcffff\">における</span><span style=\"background-color: #feffff\">一部</span><span style=\"background-color: #efffff\">報道</span><span style=\"background-color: #feffff\">では</span><span style=\"background-color: #86ffff\">、「</span><span style=\"background-color: #fdffff\">破</span><span style=\"background-color: #fcffff\">談</span><span style=\"background-color: #fcffff\">」</span><span style=\"background-color: #fdffff\">というもの</span><span style=\"background-color: #ffffff\">さえ</span><span style=\"background-color: #feffff\">ある</span><span style=\"background-color: #f6ffff\">。</span><span style=\"background-color: #faffff\">ネット</span><span style=\"background-color: #ffffff\">上で</span><span style=\"background-color: #feffff\">も</span><span style=\"background-color: #fcffff\">、</span><span style=\"background-color: #f6ffff\">交渉</span><span style=\"background-color: #f9ffff\">期限</span><span style=\"background-color: #feffff\">である</span><span style=\"background-color: #faffff\">31</span><span style=\"background-color: #fdffff\">日</span><span style=\"background-color: #fdffff\">ぎり</span><span style=\"background-color: #fdffff\">ぎり</span><span style=\"background-color: #feffff\">まで</span><span style=\"background-color: #feffff\">も</span><span style=\"background-color: #ffffff\">つ</span><span style=\"background-color: #ffffff\">れ</span><span style=\"background-color: #ffffff\">ている</span><span style=\"background-color: #f2ffff\">本田</span><span style=\"background-color: #ebffff\">移籍</span><span style=\"background-color: #f8ffff\">について</span><span style=\"background-color: #fdffff\">「</span><span style=\"background-color: #fdffff\">今まで</span><span style=\"background-color: #feffff\">で</span><span style=\"background-color: #fdffff\">一番</span><span style=\"background-color: #f4ffff\">移籍</span><span style=\"background-color: #ffffff\">に</span><span style=\"background-color: #feffff\">近</span><span style=\"background-color: #feffff\">づ</span><span style=\"background-color: #ffffff\">いた</span><span style=\"background-color: #fcffff\">エア</span><span style=\"background-color: #feffff\">だった</span><span style=\"background-color: #ffffff\">な</span><span style=\"background-color: #edffff\">」「</span><span style=\"background-color: #ffffff\">まだ</span><span style=\"background-color: #feffff\">明</span><span style=\"background-color: #fdffff\">日まで</span><span style=\"background-color: #ffffff\">楽</span><span style=\"background-color: #ffffff\">し</span><span style=\"background-color: #feffff\">ませ</span><span style=\"background-color: #faffff\">てもらえ</span><span style=\"background-color: #feffff\">そう</span><span style=\"background-color: #ffffff\">だ</span><span style=\"background-color: #00ffff\">」「</span><span style=\"background-color: #ffffff\">もう</span><span style=\"background-color: #f5ffff\">本田</span><span style=\"background-color: #feffff\">が</span><span style=\"background-color: #feffff\">金</span><span style=\"background-color: #ffffff\">出</span><span style=\"background-color: #f5ffff\">せば</span><span style=\"background-color: #ffffff\">いい</span><span style=\"background-color: #faffff\">じゃ</span><span style=\"background-color: #ffffff\">ん</span><span style=\"background-color: #daffff\">」「</span><span style=\"background-color: #fbffff\">冬</span><span style=\"background-color: #ffffff\">に</span><span style=\"background-color: #eeffff\">怪我</span><span style=\"background-color: #feffff\">人</span><span style=\"background-color: #fdffff\">買</span><span style=\"background-color: #e5ffff\">わない</span><span style=\"background-color: #ffffff\">だ</span><span style=\"background-color: #ffffff\">ろ</span><span style=\"background-color: #fdffff\">」</span><span style=\"background-color: #feffff\">と</span><span style=\"background-color: #fdffff\">、</span><span style=\"background-color: #feffff\">やや</span><span style=\"background-color: #fdffff\">冷</span><span style=\"background-color: #ffffff\">めた</span><span style=\"background-color: #f7ffff\">声が</span><span style=\"background-color: #feffff\">目立つ</span><span style=\"background-color: #f9ffff\">。</span><span style=\"background-color: #fdffff\">どのような</span><span style=\"background-color: #edffff\">結果</span><span style=\"background-color: #ffffff\">に</span><span style=\"background-color: #fcffff\">終わって</span><span style=\"background-color: #feffff\">も</span><span style=\"background-color: #fdffff\">、</span><span style=\"background-color: #7affff\">今回</span><span style=\"background-color: #ffffff\">の</span><span style=\"background-color: #e7ffff\">\"</span><span style=\"background-color: #ebffff\">本田</span><span style=\"background-color: #fdffff\">狂</span><span style=\"background-color: #fdffff\">想</span><span style=\"background-color: #feffff\">曲</span><span style=\"background-color: #f9ffff\">\"</span><span style=\"background-color: #ffffff\">に</span><span style=\"background-color: #f7ffff\">踊</span><span style=\"background-color: #feffff\">ら</span><span style=\"background-color: #fcffff\">された</span><span style=\"background-color: #ebffff\">ファン</span><span style=\"background-color: #feffff\">の</span><span style=\"background-color: #f2ffff\">メディア</span><span style=\"background-color: #fdffff\">不</span><span style=\"background-color: #fbffff\">信</span><span style=\"background-color: #f5ffff\">はさらに</span><span style=\"background-color: #feffff\">深</span><span style=\"background-color: #ffffff\">まった</span><span style=\"background-color: #feffff\">と</span><span style=\"background-color: #ebffff\">いえ</span><span style=\"background-color: #f3ffff\">そう</span>"
      ],
      "text/plain": [
       "<IPython.core.display.HTML object>"
      ]
     },
     "metadata": {},
     "output_type": "display_data"
    },
    {
     "name": "stdout",
     "output_type": "stream",
     "text": [
      "\n",
      "predict class is kaden-channel\n",
      "ground truth class is kaden-channel\n"
     ]
    },
    {
     "data": {
      "text/html": [
       "<span style=\"background-color: #ebffff\">▁</span><span style=\"background-color: #feffff\">子ども</span><span style=\"background-color: #ffffff\">や</span><span style=\"background-color: #ffffff\">ペット</span><span style=\"background-color: #f9ffff\">がいる</span><span style=\"background-color: #e5ffff\">家庭</span><span style=\"background-color: #feffff\">では</span><span style=\"background-color: #faffff\">部屋</span><span style=\"background-color: #ffffff\">の</span><span style=\"background-color: #ffffff\">水</span><span style=\"background-color: #ffffff\">拭</span><span style=\"background-color: #ffffff\">き</span><span style=\"background-color: #ffffff\">が</span><span style=\"background-color: #ffffff\">大切に</span><span style=\"background-color: #ffffff\">な</span><span style=\"background-color: #ffffff\">ってくる</span><span style=\"background-color: #f0ffff\">。</span><span style=\"background-color: #fdffff\">だが</span><span style=\"background-color: #f5ffff\">、</span><span style=\"background-color: #ffffff\">フ</span><span style=\"background-color: #c3ffff\">ローリング</span><span style=\"background-color: #ffffff\">中心</span><span style=\"background-color: #fcffff\">にしか</span><span style=\"background-color: #ffffff\">行</span><span style=\"background-color: #feffff\">えない</span><span style=\"background-color: #ffffff\">うえ</span><span style=\"background-color: #ffffff\">に</span><span style=\"background-color: #f9ffff\">、</span><span style=\"background-color: #ffffff\">どこか</span><span style=\"background-color: #feffff\">面倒</span><span style=\"background-color: #ffffff\">く</span><span style=\"background-color: #fdffff\">さい</span><span style=\"background-color: #f1ffff\">。</span><span style=\"background-color: #fdffff\">そんな</span><span style=\"background-color: #fbffff\">ときに</span><span style=\"background-color: #eaffff\">便利</span><span style=\"background-color: #ffffff\">な</span><span style=\"background-color: #ffffff\">の</span><span style=\"background-color: #ffffff\">が</span><span style=\"background-color: #ffffff\">ス</span><span style=\"background-color: #f6ffff\">チーム</span><span style=\"background-color: #ffffff\">クリー</span><span style=\"background-color: #ffffff\">ナー</span><span style=\"background-color: #eeffff\">。</span><span style=\"background-color: #ffffff\">ス</span><span style=\"background-color: #f0ffff\">チームを</span><span style=\"background-color: #f9ffff\">利用</span><span style=\"background-color: #feffff\">すれば</span><span style=\"background-color: #f8ffff\">、</span><span style=\"background-color: #ffffff\">フ</span><span style=\"background-color: #e5ffff\">ローリング</span><span style=\"background-color: #f7ffff\">はもとより</span><span style=\"background-color: #feffff\">絨</span><span style=\"background-color: #ffffff\">毯</span><span style=\"background-color: #ffffff\">まで</span><span style=\"background-color: #ffffff\">「</span><span style=\"background-color: #ffffff\">洗</span><span style=\"background-color: #ffffff\">える</span><span style=\"background-color: #ffffff\">」</span><span style=\"background-color: #ffffff\">の</span><span style=\"background-color: #fdffff\">だ</span><span style=\"background-color: #e7ffff\">。</span><span style=\"background-color: #ffffff\">表面</span><span style=\"background-color: #ffffff\">の</span><span style=\"background-color: #ffffff\">ホ</span><span style=\"background-color: #ffffff\">コリ</span><span style=\"background-color: #ffffff\">を</span><span style=\"background-color: #ccffff\">掃除</span><span style=\"background-color: #ffffff\">機</span><span style=\"background-color: #ffffff\">で</span><span style=\"background-color: #b1ffff\">吸</span><span style=\"background-color: #ffffff\">引</span><span style=\"background-color: #ffffff\">する</span><span style=\"background-color: #feffff\">だけ</span><span style=\"background-color: #faffff\">、</span><span style=\"background-color: #fbffff\">という</span><span style=\"background-color: #e0ffff\">掃除</span><span style=\"background-color: #ffffff\">方法</span><span style=\"background-color: #eeffff\">と比べると</span><span style=\"background-color: #fbffff\">、</span><span style=\"background-color: #ffffff\">比</span><span style=\"background-color: #ffffff\">べ</span><span style=\"background-color: #ffffff\">物</span><span style=\"background-color: #ffffff\">にならない</span><span style=\"background-color: #ffffff\">す</span><span style=\"background-color: #ffffff\">っき</span><span style=\"background-color: #ffffff\">り</span><span style=\"background-color: #ffffff\">感</span><span style=\"background-color: #fbffff\">だ</span><span style=\"background-color: #eeffff\">。</span><span style=\"background-color: #ffffff\">ス</span><span style=\"background-color: #ecffff\">チームの</span><span style=\"background-color: #e2ffff\">温度</span><span style=\"background-color: #ffffff\">の</span><span style=\"background-color: #ffffff\">おかげで</span><span style=\"background-color: #fcffff\">、</span><span style=\"background-color: #ebffff\">キッチン</span><span style=\"background-color: #ffffff\">の</span><span style=\"background-color: #ffffff\">床</span><span style=\"background-color: #ffffff\">の</span><span style=\"background-color: #ffffff\">油</span><span style=\"background-color: #ffffff\">汚れ</span><span style=\"background-color: #ffffff\">も</span><span style=\"background-color: #ffffff\">落</span><span style=\"background-color: #ffffff\">と</span><span style=\"background-color: #f7ffff\">せる</span><span style=\"background-color: #efffff\">。</span><span style=\"background-color: #ffffff\">揚げ</span><span style=\"background-color: #ffffff\">物</span><span style=\"background-color: #ffffff\">を作った</span><span style=\"background-color: #ffffff\">あと</span><span style=\"background-color: #ffffff\">の</span><span style=\"background-color: #ffffff\">床</span><span style=\"background-color: #ffffff\">の</span><span style=\"background-color: #ffffff\">ベ</span><span style=\"background-color: #ffffff\">ト</span><span style=\"background-color: #ffffff\">ついた</span><span style=\"background-color: #feffff\">エリア</span><span style=\"background-color: #ffffff\">にも</span><span style=\"background-color: #fdffff\">、</span><span style=\"background-color: #ffffff\">う</span><span style=\"background-color: #feffff\">っか</span><span style=\"background-color: #ffffff\">り</span><span style=\"background-color: #f7ffff\">普通の</span><span style=\"background-color: #fbffff\">掃除</span><span style=\"background-color: #ffffff\">機</span><span style=\"background-color: #ffffff\">や</span><span style=\"background-color: #ffffff\">ぞう</span><span style=\"background-color: #ffffff\">きん</span><span style=\"background-color: #ffffff\">で</span><span style=\"background-color: #ffffff\">踏み</span><span style=\"background-color: #ffffff\">込んで</span><span style=\"background-color: #f7ffff\">ヌル</span><span style=\"background-color: #fbffff\">ヌル</span><span style=\"background-color: #ffffff\">感</span><span style=\"background-color: #feffff\">に悩まされ</span><span style=\"background-color: #ffffff\">た</span><span style=\"background-color: #fbffff\">日々</span><span style=\"background-color: #ffffff\">に</span><span style=\"background-color: #ffffff\">お</span><span style=\"background-color: #ffffff\">さら</span><span style=\"background-color: #fdffff\">ば</span><span style=\"background-color: #fbffff\">だ</span><span style=\"background-color: #ebffff\">。</span><span style=\"background-color: #d4ffff\">アメリカでは</span><span style=\"background-color: #13ffff\">電動</span><span style=\"background-color: #e0ffff\">工具</span><span style=\"background-color: #ffffff\">で</span><span style=\"background-color: #ffffff\">7</span><span style=\"background-color: #ffffff\">割</span><span style=\"background-color: #ffffff\">の</span><span style=\"background-color: #e1ffff\">シェア</span><span style=\"background-color: #fbffff\">を誇る</span><span style=\"background-color: #fcffff\">ブラック</span><span style=\"background-color: #fdffff\">・</span><span style=\"background-color: #ffffff\">アンド</span><span style=\"background-color: #fdffff\">・</span><span style=\"background-color: #feffff\">デ</span><span style=\"background-color: #fbffff\">ッカー</span><span style=\"background-color: #ffffff\">から</span><span style=\"background-color: #f9ffff\">、</span><span style=\"background-color: #9cffff\">ほう</span><span style=\"background-color: #ffffff\">き</span><span style=\"background-color: #fbffff\">型</span><span style=\"background-color: #c5ffff\">掃除</span><span style=\"background-color: #ffffff\">機</span><span style=\"background-color: #ffffff\">のように</span><span style=\"background-color: #ffffff\">手</span><span style=\"background-color: #fdffff\">軽</span><span style=\"background-color: #ffffff\">に</span><span style=\"background-color: #ffffff\">使える</span><span style=\"background-color: #ffffff\">ス</span><span style=\"background-color: #feffff\">チーム</span><span style=\"background-color: #feffff\">クリー</span><span style=\"background-color: #ffffff\">ナー</span><span style=\"background-color: #3fffff\">fs</span><span style=\"background-color: #ffffff\">m</span><span style=\"background-color: #faffff\">1200</span><span style=\"background-color: #ceffff\">-</span><span style=\"background-color: #daffff\">jp</span><span style=\"background-color: #feffff\">が</span><span style=\"background-color: #e7ffff\">販売されている</span><span style=\"background-color: #e8ffff\">。</span><span style=\"background-color: #1cffff\">楽天</span><span style=\"background-color: #ffffff\">市場</span><span style=\"background-color: #ffffff\">の</span><span style=\"background-color: #c1ffff\">直営</span><span style=\"background-color: #ffffff\">店</span><span style=\"background-color: #feffff\">では</span><span style=\"background-color: #ffffff\">1</span><span style=\"background-color: #ffffff\">万</span><span style=\"background-color: #ffffff\">2</span><span style=\"background-color: #f5ffff\">800</span><span style=\"background-color: #ffffff\">円</span><span style=\"background-color: #eeffff\">(</span><span style=\"background-color: #feffff\">送</span><span style=\"background-color: #ffffff\">料</span><span style=\"background-color: #ffffff\">別</span><span style=\"background-color: #ffffff\">)</span><span style=\"background-color: #f1ffff\">。</span><span style=\"background-color: #ffffff\">床</span><span style=\"background-color: #ffffff\">が</span><span style=\"background-color: #ffffff\">傷</span><span style=\"background-color: #ffffff\">ま</span><span style=\"background-color: #feffff\">ないように</span><span style=\"background-color: #ffffff\">ス</span><span style=\"background-color: #cfffff\">チームの</span><span style=\"background-color: #f7ffff\">量の</span><span style=\"background-color: #e8ffff\">コントロール</span><span style=\"background-color: #ffffff\">に</span><span style=\"background-color: #fdffff\">力を</span><span style=\"background-color: #ffffff\">い</span><span style=\"background-color: #e4ffff\">れ</span><span style=\"background-color: #f5ffff\">ており</span><span style=\"background-color: #fbffff\">、</span><span style=\"background-color: #afffff\">ダイ</span><span style=\"background-color: #f9ffff\">アル</span><span style=\"background-color: #ffffff\">で</span><span style=\"background-color: #ffffff\">床</span><span style=\"background-color: #fcffff\">の種類</span><span style=\"background-color: #fcffff\">を選ぶ</span><span style=\"background-color: #feffff\">だけ</span><span style=\"background-color: #f2ffff\">。</span><span style=\"background-color: #b7ffff\">汚れ</span><span style=\"background-color: #ffffff\">を</span><span style=\"background-color: #ffffff\">ふ</span><span style=\"background-color: #ffffff\">き</span><span style=\"background-color: #ffffff\">と</span><span style=\"background-color: #ffffff\">る</span><span style=\"background-color: #eeffff\">マイクロ</span><span style=\"background-color: #b8ffff\">ファイバー</span><span style=\"background-color: #e3ffff\">パッド</span><span style=\"background-color: #ffffff\">には</span><span style=\"background-color: #ffffff\">手を</span><span style=\"background-color: #feffff\">触れ</span><span style=\"background-color: #ffffff\">ずに</span><span style=\"background-color: #faffff\">、</span><span style=\"background-color: #ffffff\">足</span><span style=\"background-color: #ffffff\">を使って</span><span style=\"background-color: #ffffff\">取り</span><span style=\"background-color: #ffffff\">外</span><span style=\"background-color: #ffffff\">した</span><span style=\"background-color: #ffffff\">ら</span><span style=\"background-color: #ffffff\">そのまま</span><span style=\"background-color: #00ffff\">洗濯</span><span style=\"background-color: #ffffff\">機</span><span style=\"background-color: #fcffff\">へ</span><span style=\"background-color: #edffff\">。</span><span style=\"background-color: #d6ffff\">しかも</span><span style=\"background-color: #faffff\">、</span><span style=\"background-color: #f4ffff\">本体</span><span style=\"background-color: #ffffff\">が</span><span style=\"background-color: #fdffff\">垂直</span><span style=\"background-color: #ffffff\">になった</span><span style=\"background-color: #faffff\">ときは</span><span style=\"background-color: #fbffff\">自動</span>"
      ],
      "text/plain": [
       "<IPython.core.display.HTML object>"
      ]
     },
     "metadata": {},
     "output_type": "display_data"
    },
    {
     "name": "stdout",
     "output_type": "stream",
     "text": [
      "\n",
      "predict class is peachy\n",
      "ground truth class is peachy\n"
     ]
    },
    {
     "data": {
      "text/html": [
       "<span style=\"background-color: #afffff\">▁</span><span style=\"background-color: #f9ffff\">誕生日</span><span style=\"background-color: #fcffff\">と並んで</span><span style=\"background-color: #f8ffff\">相手</span><span style=\"background-color: #fbffff\">への</span><span style=\"background-color: #ffffff\">贈</span><span style=\"background-color: #ffffff\">り</span><span style=\"background-color: #ffffff\">物</span><span style=\"background-color: #ffffff\">に</span><span style=\"background-color: #f7ffff\">“</span><span style=\"background-color: #ffffff\">気</span><span style=\"background-color: #ffffff\">合い</span><span style=\"background-color: #fcffff\">”</span><span style=\"background-color: #fdffff\">が入る</span><span style=\"background-color: #fbffff\">クリスマス</span><span style=\"background-color: #ebffff\">。</span><span style=\"background-color: #fdffff\">年</span><span style=\"background-color: #ffffff\">明け</span><span style=\"background-color: #feffff\">前の</span><span style=\"background-color: #fdffff\">最後の</span><span style=\"background-color: #fbffff\">イベント</span><span style=\"background-color: #feffff\">と</span><span style=\"background-color: #f9ffff\">あって</span><span style=\"background-color: #f1ffff\">、</span><span style=\"background-color: #ffffff\">一</span><span style=\"background-color: #feffff\">年</span><span style=\"background-color: #ffffff\">の</span><span style=\"background-color: #f1ffff\">感謝</span><span style=\"background-color: #ffffff\">を</span><span style=\"background-color: #ffffff\">こ</span><span style=\"background-color: #ffffff\">めて</span><span style=\"background-color: #f5ffff\">プレゼント</span><span style=\"background-color: #fbffff\">を選ぶ</span><span style=\"background-color: #ffffff\">人</span><span style=\"background-color: #fcffff\">も多い</span><span style=\"background-color: #ffffff\">の</span><span style=\"background-color: #fbffff\">ではない</span><span style=\"background-color: #bfffff\">でしょう</span><span style=\"background-color: #feffff\">か</span><span style=\"background-color: #f5ffff\">。</span><span style=\"background-color: #ffffff\">しかし</span><span style=\"background-color: #f0ffff\">、</span><span style=\"background-color: #feffff\">クリスマス</span><span style=\"background-color: #ffffff\">は</span><span style=\"background-color: #f6ffff\">誕生日</span><span style=\"background-color: #fdffff\">と違って</span><span style=\"background-color: #f0ffff\">、</span><span style=\"background-color: #fdffff\">お互い</span><span style=\"background-color: #ffffff\">に</span><span style=\"background-color: #e3ffff\">プレゼント</span><span style=\"background-color: #ffffff\">を</span><span style=\"background-color: #fdffff\">贈</span><span style=\"background-color: #ffffff\">り</span><span style=\"background-color: #ffffff\">合う</span><span style=\"background-color: #ffffff\">の</span><span style=\"background-color: #ebffff\">が難しい</span><span style=\"background-color: #ffffff\">所</span><span style=\"background-color: #f3ffff\">。</span><span style=\"background-color: #ffffff\">相手</span><span style=\"background-color: #ffffff\">が</span><span style=\"background-color: #ffffff\">どの</span><span style=\"background-color: #ffffff\">くらい</span><span style=\"background-color: #ffffff\">の</span><span style=\"background-color: #ffffff\">予算</span><span style=\"background-color: #ffffff\">で</span><span style=\"background-color: #f7ffff\">プレゼント</span><span style=\"background-color: #ffffff\">を</span><span style=\"background-color: #feffff\">用意</span><span style=\"background-color: #ffffff\">する</span><span style=\"background-color: #ffffff\">の</span><span style=\"background-color: #ffffff\">か</span><span style=\"background-color: #f7ffff\">、</span><span style=\"background-color: #feffff\">それより</span><span style=\"background-color: #ffffff\">高</span><span style=\"background-color: #ffffff\">すぎて</span><span style=\"background-color: #ffffff\">も</span><span style=\"background-color: #ffffff\">安</span><span style=\"background-color: #ffffff\">すぎて</span><span style=\"background-color: #ffffff\">も</span><span style=\"background-color: #f6ffff\">困</span><span style=\"background-color: #ffffff\">る</span><span style=\"background-color: #feffff\">.</span><span style=\"background-color: #feffff\">.</span><span style=\"background-color: #fdffff\">.</span><span style=\"background-color: #edffff\">。</span><span style=\"background-color: #ffffff\">何</span><span style=\"background-color: #ffffff\">て</span><span style=\"background-color: #ffffff\">悩</span><span style=\"background-color: #ffffff\">んだ</span><span style=\"background-color: #fcffff\">経験</span><span style=\"background-color: #ffffff\">は</span><span style=\"background-color: #faffff\">ありません</span><span style=\"background-color: #ffffff\">か</span><span style=\"background-color: #f6ffff\">?</span><span style=\"background-color: #b3ffff\">※</span><span style=\"background-color: #ffffff\">各</span><span style=\"background-color: #feffff\">選択肢</span><span style=\"background-color: #ffffff\">の</span><span style=\"background-color: #ffffff\">中央</span><span style=\"background-color: #ffffff\">値</span><span style=\"background-color: #f7ffff\">(</span><span style=\"background-color: #ffffff\">1</span><span style=\"background-color: #ffffff\">万円</span><span style=\"background-color: #fdffff\">未満</span><span style=\"background-color: #f3ffff\">→</span><span style=\"background-color: #ffffff\">5</span><span style=\"background-color: #ffffff\">千</span><span style=\"background-color: #ffffff\">円</span><span style=\"background-color: #fbffff\">、</span><span style=\"background-color: #ffffff\">1</span><span style=\"background-color: #ffffff\">万円</span><span style=\"background-color: #ffffff\">以上</span><span style=\"background-color: #ffffff\">〜</span><span style=\"background-color: #ffffff\">3</span><span style=\"background-color: #ffffff\">万円</span><span style=\"background-color: #fdffff\">未満</span><span style=\"background-color: #eaffff\">→</span><span style=\"background-color: #ffffff\">2</span><span style=\"background-color: #f1ffff\">万円</span><span style=\"background-color: #faffff\">、</span><span style=\"background-color: #ffffff\">3</span><span style=\"background-color: #feffff\">万円</span><span style=\"background-color: #ffffff\">以上</span><span style=\"background-color: #ffffff\">〜</span><span style=\"background-color: #ffffff\">5</span><span style=\"background-color: #ffffff\">万円</span><span style=\"background-color: #ffffff\">未満</span><span style=\"background-color: #f8ffff\">→</span><span style=\"background-color: #ffffff\">4</span><span style=\"background-color: #ffffff\">万円</span><span style=\"background-color: #fcffff\">、</span><span style=\"background-color: #ffffff\">5</span><span style=\"background-color: #ffffff\">万円</span><span style=\"background-color: #ffffff\">以上</span><span style=\"background-color: #f0ffff\">→</span><span style=\"background-color: #ffffff\">6</span><span style=\"background-color: #ffffff\">万円</span><span style=\"background-color: #feffff\">)</span><span style=\"background-color: #ffffff\">から</span><span style=\"background-color: #fbffff\">平均</span><span style=\"background-color: #efffff\">値を</span><span style=\"background-color: #ffffff\">割り</span><span style=\"background-color: #ffffff\">出した</span><span style=\"background-color: #f3ffff\">(</span><span style=\"background-color: #b3ffff\">出典</span><span style=\"background-color: #00ffff\">:</span><span style=\"background-color: #f1ffff\">コミュニケーション</span><span style=\"background-color: #ffffff\">デザイン</span><span style=\"background-color: #c3ffff\">総合研究所</span><span style=\"background-color: #ffffff\">)</span><span style=\"background-color: #eaffff\">。</span><span style=\"background-color: #dfffff\">コミュニケーション</span><span style=\"background-color: #ffffff\">デザイン</span><span style=\"background-color: #fcffff\">研究所</span><span style=\"background-color: #ffffff\">が</span><span style=\"background-color: #f2ffff\">、</span><span style=\"background-color: #ffffff\">三</span><span style=\"background-color: #f1ffff\">大都市圏</span><span style=\"background-color: #ffffff\">の</span><span style=\"background-color: #e4ffff\">既婚</span><span style=\"background-color: #fcffff\">・</span><span style=\"background-color: #d1ffff\">恋人</span><span style=\"background-color: #faffff\">がいる</span><span style=\"background-color: #ffffff\">20</span><span style=\"background-color: #e6ffff\">〜</span><span style=\"background-color: #ffffff\">40</span><span style=\"background-color: #ffffff\">代</span><span style=\"background-color: #ffffff\">の</span><span style=\"background-color: #ebffff\">男女</span><span style=\"background-color: #ffffff\">1200</span><span style=\"background-color: #ffffff\">人に</span><span style=\"background-color: #fcffff\">聞いた</span><span style=\"background-color: #ffffff\">「</span><span style=\"background-color: #ffffff\">今</span><span style=\"background-color: #ffffff\">年</span><span style=\"background-color: #ffffff\">の</span><span style=\"background-color: #faffff\">クリスマス</span><span style=\"background-color: #fcffff\">プレゼント</span><span style=\"background-color: #fdffff\">」</span><span style=\"background-color: #ffffff\">の</span><span style=\"background-color: #d9ffff\">調査結果</span><span style=\"background-color: #fbffff\">によると</span><span style=\"background-color: #f2ffff\">、</span><span style=\"background-color: #fdffff\">相手に</span><span style=\"background-color: #f6ffff\">プレゼント</span><span style=\"background-color: #ffffff\">する</span><span style=\"background-color: #fdffff\">予算</span><span style=\"background-color: #fdffff\">の平均</span><span style=\"background-color: #ffffff\">は</span><span style=\"background-color: #f8ffff\">、</span><span style=\"background-color: #e1ffff\">男性</span><span style=\"background-color: #ffffff\">で</span><span style=\"background-color: #ffffff\">2</span><span style=\"background-color: #feffff\">1,000</span><span style=\"background-color: #ffffff\">円</span><span style=\"background-color: #f5ffff\">、</span><span style=\"background-color: #cdffff\">女性</span><span style=\"background-color: #ffffff\">で</span><span style=\"background-color: #ffffff\">1</span><span style=\"background-color: #ffffff\">4,000</span><span style=\"background-color: #ffffff\">円</span><span style=\"background-color: #faffff\">という結果</span><span style=\"background-color: #fcffff\">が出</span><span style=\"background-color: #f2ffff\">ました</span><span style=\"background-color: #f4ffff\">。</span><span style=\"background-color: #feffff\">逆に</span><span style=\"background-color: #f7ffff\">相手に</span><span style=\"background-color: #fbffff\">期待</span><span style=\"background-color: #ffffff\">する</span><span style=\"background-color: #a7ffff\">プレゼント</span><span style=\"background-color: #eeffff\">の平均</span><span style=\"background-color: #d9ffff\">金額</span><span style=\"background-color: #e0ffff\">については</span><span style=\"background-color: #f3ffff\">、</span><span style=\"background-color: #e3ffff\">男性</span><span style=\"background-color: #feffff\">で</span><span style=\"background-color: #ffffff\">1</span><span style=\"background-color: #f1ffff\">3,000</span><span style=\"background-color: #ffffff\">円</span><span style=\"background-color: #ffffff\">と</span><span style=\"background-color: #f9ffff\">相手に</span><span style=\"background-color: #93ffff\">プレゼント</span><span style=\"background-color: #ffffff\">する</span><span style=\"background-color: #feffff\">予算</span><span style=\"background-color: #ffffff\">より</span><span style=\"background-color: #ffffff\">安</span><span style=\"background-color: #f0ffff\">くなり</span><span style=\"background-color: #f4ffff\">、</span><span style=\"background-color: #bcffff\">女性</span><span style=\"background-color: #fcffff\">に至って</span><span style=\"background-color: #ffffff\">は</span><span style=\"background-color: #ffffff\">1</span><span style=\"background-color: #fdffff\">8,000</span><span style=\"background-color: #ffffff\">円</span><span style=\"background-color: #ffffff\">と</span><span style=\"background-color: #ffffff\">相手</span><span style=\"background-color: #ffffff\">から</span><span style=\"background-color: #ffffff\">期待</span><span style=\"background-color: #ffffff\">する</span><span style=\"background-color: #e8ffff\">金額</span><span style=\"background-color: #ffffff\">の</span><span style=\"background-color: #ffffff\">が</span><span style=\"background-color: #fcffff\">5,000</span><span style=\"background-color: #f6ffff\">円</span><span style=\"background-color: #ffffff\">近く</span><span style=\"background-color: #ffffff\">上</span><span style=\"background-color: #fdffff\">回</span><span style=\"background-color: #ffffff\">っている</span><span style=\"background-color: #feffff\">ことが</span><span style=\"background-color: #e2ffff\">わかり</span><span style=\"background-color: #9cffff\">ます</span><span style=\"background-color: #d4ffff\">。</span><span style=\"background-color: #fdffff\">景気</span><span style=\"background-color: #ffffff\">が</span><span style=\"background-color: #ffffff\">上</span><span style=\"background-color: #feffff\">向い</span>"
      ],
      "text/plain": [
       "<IPython.core.display.HTML object>"
      ]
     },
     "metadata": {},
     "output_type": "display_data"
    },
    {
     "name": "stdout",
     "output_type": "stream",
     "text": [
      "\n",
      "predict class is smax\n",
      "ground truth class is smax\n"
     ]
    },
    {
     "data": {
      "text/html": [
       "<span style=\"background-color: #faffff\">▁</span><span style=\"background-color: #efffff\">シャープ</span><span style=\"background-color: #ffffff\">の</span><span style=\"background-color: #fcffff\">ハイ</span><span style=\"background-color: #f1ffff\">スペック</span><span style=\"background-color: #6effff\">スマートフォン</span><span style=\"background-color: #fdffff\">「</span><span style=\"background-color: #feffff\">a</span><span style=\"background-color: #f2ffff\">qu</span><span style=\"background-color: #f3ffff\">os</span><span style=\"background-color: #f4ffff\">▁</span><span style=\"background-color: #faffff\">ph</span><span style=\"background-color: #f5ffff\">one</span><span style=\"background-color: #e0ffff\">▁se</span><span style=\"background-color: #fbffff\">rie</span><span style=\"background-color: #faffff\">」</span><span style=\"background-color: #ffffff\">は</span><span style=\"background-color: #ffffff\">買い</span><span style=\"background-color: #fbffff\">だ</span><span style=\"background-color: #deffff\">!</span><span style=\"background-color: #fcffff\">既</span><span style=\"background-color: #f0ffff\">報</span><span style=\"background-color: #feffff\">の</span><span style=\"background-color: #fcffff\">通り</span><span style=\"background-color: #f3ffff\">、</span><span style=\"background-color: #31ffff\">kddi</span><span style=\"background-color: #feffff\">は</span><span style=\"background-color: #fcffff\">15</span><span style=\"background-color: #fdffff\">日</span><span style=\"background-color: #f9ffff\">、</span><span style=\"background-color: #f8ffff\">au</span><span style=\"background-color: #f7ffff\">向けの</span><span style=\"background-color: #dbffff\">2012</span><span style=\"background-color: #f9ffff\">年夏</span><span style=\"background-color: #f6ffff\">モデル</span><span style=\"background-color: #f2ffff\">発表</span><span style=\"background-color: #fcffff\">会</span><span style=\"background-color: #feffff\">を</span><span style=\"background-color: #f6ffff\">都内</span><span style=\"background-color: #f7ffff\">で開催</span><span style=\"background-color: #ffffff\">し</span><span style=\"background-color: #fbffff\">、</span><span style=\"background-color: #f0ffff\">シャープ</span><span style=\"background-color: #fbffff\">製の</span><span style=\"background-color: #fdffff\">「</span><span style=\"background-color: #feffff\">a</span><span style=\"background-color: #f8ffff\">qu</span><span style=\"background-color: #faffff\">os</span><span style=\"background-color: #faffff\">▁</span><span style=\"background-color: #faffff\">ph</span><span style=\"background-color: #f7ffff\">one</span><span style=\"background-color: #f2ffff\">▁se</span><span style=\"background-color: #f9ffff\">rie</span><span style=\"background-color: #f4ffff\">▁is</span><span style=\"background-color: #fcffff\">w</span><span style=\"background-color: #fcffff\">16</span><span style=\"background-color: #f9ffff\">sh</span><span style=\"background-color: #fcffff\">(</span><span style=\"background-color: #fcffff\">アク</span><span style=\"background-color: #fcffff\">オス</span><span style=\"background-color: #feffff\">・</span><span style=\"background-color: #fcffff\">フォン</span><span style=\"background-color: #fdffff\">・</span><span style=\"background-color: #faffff\">セリエ</span><span style=\"background-color: #fdffff\">・</span><span style=\"background-color: #ffffff\">ア</span><span style=\"background-color: #f9ffff\">イエス</span><span style=\"background-color: #feffff\">ダ</span><span style=\"background-color: #f6ffff\">ブリュ</span><span style=\"background-color: #faffff\">イチ</span><span style=\"background-color: #fdffff\">ロ</span><span style=\"background-color: #feffff\">ク</span><span style=\"background-color: #fcffff\">エス</span><span style=\"background-color: #feffff\">シ</span><span style=\"background-color: #fdffff\">チ</span><span style=\"background-color: #fcffff\">)</span><span style=\"background-color: #fcffff\">」</span><span style=\"background-color: #fcffff\">(</span><span style=\"background-color: #fbffff\">以下</span><span style=\"background-color: #fcffff\">、</span><span style=\"background-color: #fcffff\">is</span><span style=\"background-color: #fcffff\">w</span><span style=\"background-color: #feffff\">16</span><span style=\"background-color: #fbffff\">sh</span><span style=\"background-color: #feffff\">)</span><span style=\"background-color: #ffffff\">を</span><span style=\"background-color: #feffff\">6</span><span style=\"background-color: #fcffff\">月下旬</span><span style=\"background-color: #fdffff\">以降に</span><span style=\"background-color: #fbffff\">発売</span><span style=\"background-color: #ffffff\">する</span><span style=\"background-color: #eaffff\">と発表した</span><span style=\"background-color: #d7ffff\">。</span><span style=\"background-color: #fbffff\">展示</span><span style=\"background-color: #faffff\">会場</span><span style=\"background-color: #feffff\">で</span><span style=\"background-color: #faffff\">is</span><span style=\"background-color: #fcffff\">w</span><span style=\"background-color: #fdffff\">16</span><span style=\"background-color: #fcffff\">sh</span><span style=\"background-color: #ffffff\">を</span><span style=\"background-color: #f8ffff\">試</span><span style=\"background-color: #ffffff\">す</span><span style=\"background-color: #fcffff\">ことができた</span><span style=\"background-color: #ffffff\">の</span><span style=\"background-color: #ffffff\">で</span><span style=\"background-color: #f7ffff\">写真</span><span style=\"background-color: #feffff\">と</span><span style=\"background-color: #f5ffff\">動画</span><span style=\"background-color: #feffff\">で</span><span style=\"background-color: #a9ffff\">紹介する</span><span style=\"background-color: #00ffff\">。</span><span style=\"background-color: #faffff\">本体</span><span style=\"background-color: #feffff\">正面</span><span style=\"background-color: #faffff\">(</span><span style=\"background-color: #fdffff\">左</span><span style=\"background-color: #faffff\">)</span><span style=\"background-color: #feffff\">と</span><span style=\"background-color: #f6ffff\">背面</span><span style=\"background-color: #fdffff\">(</span><span style=\"background-color: #fcffff\">右</span><span style=\"background-color: #f9ffff\">)</span><span style=\"background-color: #fbffff\">。</span><span style=\"background-color: #fcffff\">カラー</span><span style=\"background-color: #e1ffff\">バリエーション</span><span style=\"background-color: #feffff\">は</span><span style=\"background-color: #faffff\">「</span><span style=\"background-color: #e0ffff\">white</span><span style=\"background-color: #fdffff\">」</span><span style=\"background-color: #feffff\">の</span><span style=\"background-color: #feffff\">1</span><span style=\"background-color: #feffff\">色</span><span style=\"background-color: #faffff\">展開</span><span style=\"background-color: #ffffff\">ディ</span><span style=\"background-color: #fcffff\">プレイ</span><span style=\"background-color: #faffff\">直下</span><span style=\"background-color: #ffffff\">には</span><span style=\"background-color: #feffff\">「</span><span style=\"background-color: #fdffff\">a</span><span style=\"background-color: #faffff\">qu</span><span style=\"background-color: #f9ffff\">os</span><span style=\"background-color: #fdffff\">▁</span><span style=\"background-color: #f8ffff\">ph</span><span style=\"background-color: #f3ffff\">one</span><span style=\"background-color: #fbffff\">」</span><span style=\"background-color: #feffff\">の</span><span style=\"background-color: #fcffff\">ロゴ</span><span style=\"background-color: #fdffff\">のみ</span><span style=\"background-color: #f5ffff\">となっており</span><span style=\"background-color: #fdffff\">ハード</span><span style=\"background-color: #feffff\">キー</span><span style=\"background-color: #feffff\">は</span><span style=\"background-color: #f2ffff\">搭載</span><span style=\"background-color: #faffff\">しない</span><span style=\"background-color: #fbffff\">本体</span><span style=\"background-color: #fdffff\">の</span><span style=\"background-color: #f9ffff\">サイズ</span><span style=\"background-color: #f9ffff\">は約</span><span style=\"background-color: #fbffff\">66</span><span style=\"background-color: #fbffff\">(</span><span style=\"background-color: #fbffff\">w</span><span style=\"background-color: #fbffff\">)</span><span style=\"background-color: #f9ffff\">▁</span><span style=\"background-color: #f5ffff\">×</span><span style=\"background-color: #f1ffff\">12</span><span style=\"background-color: #fcffff\">6</span><span style=\"background-color: #fcffff\">(</span><span style=\"background-color: #fcffff\">h</span><span style=\"background-color: #fdffff\">)</span><span style=\"background-color: #fcffff\">▁</span><span style=\"background-color: #f7ffff\">×</span><span style=\"background-color: #feffff\">11</span><span style=\"background-color: #fdffff\">.</span><span style=\"background-color: #feffff\">2</span><span style=\"background-color: #fdffff\">(</span><span style=\"background-color: #fdffff\">d</span><span style=\"background-color: #fdffff\">)</span><span style=\"background-color: #fbffff\">▁mm</span><span style=\"background-color: #fbffff\">、</span><span style=\"background-color: #e1ffff\">質量</span><span style=\"background-color: #f8ffff\">は約</span><span style=\"background-color: #fcffff\">13</span><span style=\"background-color: #fcffff\">6</span><span style=\"background-color: #fcffff\">g</span><span style=\"background-color: #f8ffff\">。</span><span style=\"background-color: #c9ffff\">ディスプレイ</span><span style=\"background-color: #f8ffff\">は約</span><span style=\"background-color: #fcffff\">4</span><span style=\"background-color: #fbffff\">.</span><span style=\"background-color: #fdffff\">6</span><span style=\"background-color: #fcffff\">インチ</span><span style=\"background-color: #fcffff\">▁</span><span style=\"background-color: #f6ffff\">hd</span><span style=\"background-color: #fdffff\">(</span><span style=\"background-color: #fbffff\">12</span><span style=\"background-color: #faffff\">80</span><span style=\"background-color: #f8ffff\">×</span><span style=\"background-color: #fdffff\">7</span><span style=\"background-color: #faffff\">20</span><span style=\"background-color: #f8ffff\">ドット</span><span style=\"background-color: #fdffff\">)</span><span style=\"background-color: #feffff\">の</span><span style=\"background-color: #faffff\">cg</span><span style=\"background-color: #f9ffff\">sil</span><span style=\"background-color: #fcffff\">ic</span><span style=\"background-color: #fcffff\">on</span><span style=\"background-color: #c9ffff\">液晶</span><span style=\"background-color: #e9ffff\">を搭載する</span><span style=\"background-color: #f9ffff\">。</span><span style=\"background-color: #fbffff\">本体</span><span style=\"background-color: #faffff\">カラー</span><span style=\"background-color: #feffff\">は</span><span style=\"background-color: #ceffff\">white</span><span style=\"background-color: #e7ffff\">のみ</span><span style=\"background-color: #feffff\">と</span><span style=\"background-color: #f3ffff\">珍しい</span><span style=\"background-color: #fdffff\">1</span><span style=\"background-color: #fdffff\">色</span><span style=\"background-color: #ecffff\">展開</span><span style=\"background-color: #f1ffff\">。</span><span style=\"background-color: #f6ffff\">前面</span><span style=\"background-color: #feffff\">の</span><span style=\"background-color: #fcffff\">ベ</span><span style=\"background-color: #f8ffff\">ゼル</span><span style=\"background-color: #fbffff\">部分は</span><span style=\"background-color: #f5ffff\">ブラック</span><span style=\"background-color: #d6ffff\">を採用している</span><span style=\"background-color: #f4ffff\">。</span><span style=\"background-color: #fcffff\">本体</span><span style=\"background-color: #f3ffff\">向かって</span><span style=\"background-color: #fdffff\">右</span><span style=\"background-color: #ecffff\">側面</span><span style=\"background-color: #fdffff\">(</span><span style=\"background-color: #fbffff\">画像</span><span style=\"background-color: #ffffff\">上</span><span style=\"background-color: #fdffff\">)</span><span style=\"background-color: #fdffff\">と</span><span style=\"background-color: #fcffff\">左</span><span style=\"background-color: #f5ffff\">側面</span><span style=\"background-color: #f7ffff\">(</span><span style=\"background-color: #fbffff\">画像</span><span style=\"background-color: #ffffff\">下</span><span style=\"background-color: #fdffff\">)</span><span style=\"background-color: #f6ffff\">本体</span><span style=\"background-color: #daffff\">上部</span><span style=\"background-color: #c3ffff\">側面</span><span style=\"background-color: #cbffff\">(</span><span style=\"background-color: #d9ffff\">画像</span><span style=\"background-color: #fdffff\">上</span><span style=\"background-color: #fcffff\">)</span><span style=\"background-color: #fdffff\">と</span><span style=\"background-color: #eaffff\">下部</span><span style=\"background-color: #ceffff\">側面</span><span style=\"background-color: #f9ffff\">(</span><span style=\"background-color: #e2ffff\">画像</span><span style=\"background-color: #ffffff\">下</span>"
      ],
      "text/plain": [
       "<IPython.core.display.HTML object>"
      ]
     },
     "metadata": {},
     "output_type": "display_data"
    },
    {
     "name": "stdout",
     "output_type": "stream",
     "text": [
      "\n",
      "predict class is smax\n",
      "ground truth class is smax\n"
     ]
    },
    {
     "data": {
      "text/html": [
       "<span style=\"background-color: #f6ffff\">▁</span><span style=\"background-color: #f9ffff\">gal</span><span style=\"background-color: #f8ffff\">ax</span><span style=\"background-color: #feffff\">y</span><span style=\"background-color: #f0ffff\">▁s</span><span style=\"background-color: #f5ffff\">▁</span><span style=\"background-color: #f6ffff\">iii</span><span style=\"background-color: #b7ffff\">▁</span><span style=\"background-color: #98ffff\">sc</span><span style=\"background-color: #fcffff\">-</span><span style=\"background-color: #f4ffff\">06</span><span style=\"background-color: #fbffff\">d</span><span style=\"background-color: #ffffff\">の</span><span style=\"background-color: #f7ffff\">通知</span><span style=\"background-color: #fcffff\">エリア</span><span style=\"background-color: #ffffff\">は</span><span style=\"background-color: #feffff\">どう</span><span style=\"background-color: #f5ffff\">なっている</span><span style=\"background-color: #b4ffff\">?</span><span style=\"background-color: #cbffff\">android</span><span style=\"background-color: #ecffff\">搭載</span><span style=\"background-color: #feffff\">の</span><span style=\"background-color: #00ffff\">スマートフォン</span><span style=\"background-color: #fdffff\">お</span><span style=\"background-color: #ffffff\">いて</span><span style=\"background-color: #ffffff\">は</span><span style=\"background-color: #f7ffff\">、</span><span style=\"background-color: #feffff\">新</span><span style=\"background-color: #fdffff\">着</span><span style=\"background-color: #f1ffff\">メール</span><span style=\"background-color: #feffff\">や</span><span style=\"background-color: #ddffff\">アプリ</span><span style=\"background-color: #f7ffff\">更新</span><span style=\"background-color: #feffff\">の</span><span style=\"background-color: #fdffff\">お</span><span style=\"background-color: #efffff\">知らせ</span><span style=\"background-color: #f6ffff\">、</span><span style=\"background-color: #b0ffff\">twitter</span><span style=\"background-color: #fdffff\">や</span><span style=\"background-color: #e6ffff\">facebook</span><span style=\"background-color: #f7ffff\">、</span><span style=\"background-color: #ecffff\">google</span><span style=\"background-color: #fbffff\">+</span><span style=\"background-color: #fdffff\">などの</span><span style=\"background-color: #fdffff\">新</span><span style=\"background-color: #fcffff\">着</span><span style=\"background-color: #ffffff\">を</span><span style=\"background-color: #eaffff\">画面</span><span style=\"background-color: #f3ffff\">上部</span><span style=\"background-color: #feffff\">の</span><span style=\"background-color: #f1ffff\">通知</span><span style=\"background-color: #fcffff\">エリア</span><span style=\"background-color: #feffff\">で</span><span style=\"background-color: #f5ffff\">知らせ</span><span style=\"background-color: #f6ffff\">てくれる</span><span style=\"background-color: #f6ffff\">通知</span><span style=\"background-color: #fbffff\">機能</span><span style=\"background-color: #feffff\">が</span><span style=\"background-color: #e1ffff\">実装</span><span style=\"background-color: #f6ffff\">されている</span><span style=\"background-color: #c8ffff\">。</span><span style=\"background-color: #f2ffff\">画面</span><span style=\"background-color: #f9ffff\">上部</span><span style=\"background-color: #ffffff\">の</span><span style=\"background-color: #f4ffff\">通知</span><span style=\"background-color: #fdffff\">バー</span><span style=\"background-color: #ffffff\">に</span><span style=\"background-color: #f5ffff\">通知</span><span style=\"background-color: #fbffff\">アイコン</span><span style=\"background-color: #95ffff\">が表示され</span><span style=\"background-color: #f4ffff\">通知</span><span style=\"background-color: #fdffff\">バー</span><span style=\"background-color: #feffff\">を</span><span style=\"background-color: #f6ffff\">画面</span><span style=\"background-color: #fbffff\">下部</span><span style=\"background-color: #feffff\">に向かって</span><span style=\"background-color: #fcffff\">フ</span><span style=\"background-color: #faffff\">リック</span><span style=\"background-color: #fdffff\">すると</span><span style=\"background-color: #f8ffff\">通知</span><span style=\"background-color: #fcffff\">エリア</span><span style=\"background-color: #ffffff\">が</span><span style=\"background-color: #d3ffff\">表示される</span><span style=\"background-color: #eaffff\">ようになっている</span><span style=\"background-color: #89ffff\">。</span><span style=\"background-color: #fdffff\">実</span><span style=\"background-color: #ffffff\">はこの</span><span style=\"background-color: #f8ffff\">通知</span><span style=\"background-color: #fdffff\">エリア</span><span style=\"background-color: #ffffff\">は</span><span style=\"background-color: #fcffff\">、</span><span style=\"background-color: #f1ffff\">端末</span><span style=\"background-color: #fdffff\">毎</span><span style=\"background-color: #fdffff\">、</span><span style=\"background-color: #f6ffff\">メーカー</span><span style=\"background-color: #feffff\">毎に</span><span style=\"background-color: #fcffff\">カスタマイズ</span><span style=\"background-color: #feffff\">されており</span><span style=\"background-color: #fdffff\">、</span><span style=\"background-color: #ecffff\">表示される</span><span style=\"background-color: #fdffff\">内容</span><span style=\"background-color: #ffffff\">や</span><span style=\"background-color: #fbffff\">アイコン</span><span style=\"background-color: #fdffff\">を含めた</span><span style=\"background-color: #f4ffff\">表示</span><span style=\"background-color: #ffffff\">の</span><span style=\"background-color: #fcffff\">仕方</span><span style=\"background-color: #ffffff\">が</span><span style=\"background-color: #fdffff\">異なり</span><span style=\"background-color: #fbffff\">、</span><span style=\"background-color: #ffffff\">さらに</span><span style=\"background-color: #ccffff\">android</span><span style=\"background-color: #fcffff\">▁</span><span style=\"background-color: #ffffff\">4</span><span style=\"background-color: #fdffff\">.</span><span style=\"background-color: #faffff\">0</span><span style=\"background-color: #faffff\">(</span><span style=\"background-color: #f9ffff\">開発</span><span style=\"background-color: #f8ffff\">コード</span><span style=\"background-color: #fdffff\">名</span><span style=\"background-color: #f6ffff\">:</span><span style=\"background-color: #f7ffff\">ice</span><span style=\"background-color: #fcffff\">▁</span><span style=\"background-color: #faffff\">cre</span><span style=\"background-color: #fbffff\">am</span><span style=\"background-color: #faffff\">▁san</span><span style=\"background-color: #fdffff\">d</span><span style=\"background-color: #faffff\">wi</span><span style=\"background-color: #fbffff\">ch</span><span style=\"background-color: #fdffff\">)</span><span style=\"background-color: #fdffff\">になってから</span><span style=\"background-color: #ffffff\">は</span><span style=\"background-color: #feffff\">それまでの</span><span style=\"background-color: #efffff\">android</span><span style=\"background-color: #fcffff\">▁</span><span style=\"background-color: #fdffff\">2</span><span style=\"background-color: #fcffff\">.</span><span style=\"background-color: #f9ffff\">x</span><span style=\"background-color: #fcffff\">とは</span><span style=\"background-color: #fdffff\">若干</span><span style=\"background-color: #fcffff\">異なる</span><span style=\"background-color: #feffff\">点</span><span style=\"background-color: #efffff\">がある</span><span style=\"background-color: #bcffff\">。</span><span style=\"background-color: #feffff\">そこで</span><span style=\"background-color: #c0ffff\">今回</span><span style=\"background-color: #ffffff\">は</span><span style=\"background-color: #faffff\">、</span><span style=\"background-color: #e2ffff\">android</span><span style=\"background-color: #ffffff\">の</span><span style=\"background-color: #faffff\">バージョン</span><span style=\"background-color: #feffff\">4</span><span style=\"background-color: #fcffff\">.</span><span style=\"background-color: #f9ffff\">0</span><span style=\"background-color: #fbffff\">.</span><span style=\"background-color: #fdffff\">4</span><span style=\"background-color: #f5ffff\">を搭載した</span><span style=\"background-color: #fbffff\">サム</span><span style=\"background-color: #faffff\">スン</span><span style=\"background-color: #f3ffff\">電子</span><span style=\"background-color: #fbffff\">製の</span><span style=\"background-color: #fdffff\">「</span><span style=\"background-color: #f3ffff\">gal</span><span style=\"background-color: #f8ffff\">ax</span><span style=\"background-color: #fcffff\">y</span><span style=\"background-color: #f9ffff\">▁s</span><span style=\"background-color: #f8ffff\">▁</span><span style=\"background-color: #fbffff\">iii</span><span style=\"background-color: #f8ffff\">▁</span><span style=\"background-color: #faffff\">sc</span><span style=\"background-color: #fdffff\">-</span><span style=\"background-color: #ebffff\">06</span><span style=\"background-color: #fdffff\">d</span><span style=\"background-color: #faffff\">」</span><span style=\"background-color: #ffffff\">の</span><span style=\"background-color: #f7ffff\">通知</span><span style=\"background-color: #faffff\">エリア</span><span style=\"background-color: #feffff\">を</span><span style=\"background-color: #f4ffff\">解説</span><span style=\"background-color: #fbffff\">していく</span><span style=\"background-color: #88ffff\">。</span><span style=\"background-color: #feffff\">これまで</span><span style=\"background-color: #cfffff\">android</span><span style=\"background-color: #ecffff\">スマートフォン</span><span style=\"background-color: #fdffff\">を使った</span><span style=\"background-color: #fdffff\">事</span><span style=\"background-color: #f9ffff\">がない</span><span style=\"background-color: #f4ffff\">初心者</span><span style=\"background-color: #f7ffff\">ユーザー</span><span style=\"background-color: #fbffff\">はもちろん</span><span style=\"background-color: #faffff\">だが</span><span style=\"background-color: #f8ffff\">、</span><span style=\"background-color: #f9ffff\">and</span><span style=\"background-color: #f8ffff\">ori</span><span style=\"background-color: #faffff\">d</span><span style=\"background-color: #a8ffff\">スマートフォン</span><span style=\"background-color: #fdffff\">を使って</span><span style=\"background-color: #ffffff\">いて</span><span style=\"background-color: #ffffff\">も</span><span style=\"background-color: #faffff\">、</span><span style=\"background-color: #b5ffff\">android</span><span style=\"background-color: #faffff\">▁</span><span style=\"background-color: #fdffff\">4</span><span style=\"background-color: #fbffff\">.</span><span style=\"background-color: #fbffff\">0</span><span style=\"background-color: #fcffff\">を利用した</span><span style=\"background-color: #f8ffff\">事</span><span style=\"background-color: #faffff\">がない</span><span style=\"background-color: #ecffff\">ユーザー</span><span style=\"background-color: #feffff\">にも</span><span style=\"background-color: #fbffff\">是非</span><span style=\"background-color: #f7ffff\">参考</span><span style=\"background-color: #fdffff\">にして</span><span style=\"background-color: #9bffff\">ほしい</span><span style=\"background-color: #efffff\">。</span><span style=\"background-color: #e5ffff\">通知</span><span style=\"background-color: #f5ffff\">アイコン</span><span style=\"background-color: #feffff\">は</span><span style=\"background-color: #e3ffff\">画面</span><span style=\"background-color: #fcffff\">左</span><span style=\"background-color: #feffff\">上に</span><span style=\"background-color: #d7ffff\">表示される</span><span style=\"background-color: #f7ffff\">。</span><span style=\"background-color: #f2ffff\">通知</span><span style=\"background-color: #faffff\">エリア</span><span style=\"background-color: #feffff\">を開く</span><span style=\"background-color: #eaffff\">場合は</span><span style=\"background-color: #f7ffff\">、</span><span style=\"background-color: #ecffff\">画面</span><span style=\"background-color: #cfffff\">上部</span><span style=\"background-color: #fdffff\">から</span><span style=\"background-color: #b0ffff\">画面</span><span style=\"background-color: #e1ffff\">下部</span><span style=\"background-color: #fcffff\">に向かって</span><span style=\"background-color: #f1ffff\">通知</span><span style=\"background-color: #e2ffff\">バー</span><span style=\"background-color: #ffffff\">を</span><span style=\"background-color: #dcffff\">引き下げ</span><span style=\"background-color: #feffff\">るように</span><span style=\"background-color: #faffff\">フ</span><span style=\"background-color: #faffff\">リック</span><span style=\"background-color: #feffff\">する</span><span style=\"background-color: #f6ffff\">。</span><span style=\"background-color: #daffff\">通知</span><span style=\"background-color: #baffff\">エリア</span><span style=\"background-color: #feffff\">を</span><span style=\"background-color: #dcffff\">表示</span><span style=\"background-color: #fdffff\">させる</span><span style=\"background-color: #fbffff\">と</span><span style=\"background-color: #fbffff\">上部に</span><span style=\"background-color: #ffffff\">は</span><span style=\"background-color: #eaffff\">色々な</span><span style=\"background-color: #f9ffff\">アイコン</span><span style=\"background-color: #fdffff\">が</span><span style=\"background-color: #feffff\">並ぶ</span><span style=\"background-color: #f9ffff\">。</span>"
      ],
      "text/plain": [
       "<IPython.core.display.HTML object>"
      ]
     },
     "metadata": {},
     "output_type": "display_data"
    },
    {
     "name": "stdout",
     "output_type": "stream",
     "text": [
      "\n",
      "predict class is sports-watch\n",
      "ground truth class is sports-watch\n"
     ]
    },
    {
     "data": {
      "text/html": [
       "<span style=\"background-color: #f7ffff\">▁今</span><span style=\"background-color: #fcffff\">年</span><span style=\"background-color: #feffff\">2</span><span style=\"background-color: #feffff\">月に</span><span style=\"background-color: #afffff\">スカパー</span><span style=\"background-color: #f7ffff\">!</span><span style=\"background-color: #f2ffff\">j</span><span style=\"background-color: #e0ffff\">リーグの</span><span style=\"background-color: #f3ffff\">オフィシャル</span><span style=\"background-color: #ecffff\">サポーター</span><span style=\"background-color: #f9ffff\">就任</span><span style=\"background-color: #f7ffff\">が発表された</span><span style=\"background-color: #fbffff\">、</span><span style=\"background-color: #7dffff\">akb</span><span style=\"background-color: #f5ffff\">48</span><span style=\"background-color: #ffffff\">の</span><span style=\"background-color: #ecffff\">ライバル</span><span style=\"background-color: #f9ffff\">グループ</span><span style=\"background-color: #f4ffff\">=</span><span style=\"background-color: #9bffff\">乃木坂</span><span style=\"background-color: #f6ffff\">46</span><span style=\"background-color: #feffff\">は</span><span style=\"background-color: #fbffff\">、</span><span style=\"background-color: #fcffff\">21</span><span style=\"background-color: #fdffff\">日</span><span style=\"background-color: #ffffff\">の</span><span style=\"background-color: #f6ffff\">j</span><span style=\"background-color: #fdffff\">1</span><span style=\"background-color: #9effff\">▁第</span><span style=\"background-color: #feffff\">7</span><span style=\"background-color: #f7ffff\">節</span><span style=\"background-color: #fbffff\">、</span><span style=\"background-color: #fcffff\">na</span><span style=\"background-color: #f9ffff\">ck</span><span style=\"background-color: #feffff\">5</span><span style=\"background-color: #f3ffff\">スタジアム</span><span style=\"background-color: #f3ffff\">大宮</span><span style=\"background-color: #faffff\">で行われた</span><span style=\"background-color: #f3ffff\">大宮</span><span style=\"background-color: #ffffff\">アル</span><span style=\"background-color: #feffff\">ディー</span><span style=\"background-color: #feffff\">ジャ</span><span style=\"background-color: #f1ffff\">×</span><span style=\"background-color: #e8ffff\">浦和</span><span style=\"background-color: #e9ffff\">レッズ</span><span style=\"background-color: #f8ffff\">戦前</span><span style=\"background-color: #ffffff\">に</span><span style=\"background-color: #edffff\">ゲスト出演</span><span style=\"background-color: #f9ffff\">を果たした</span><span style=\"background-color: #cbffff\">。</span><span style=\"background-color: #ebffff\">サッカー</span><span style=\"background-color: #ebffff\">日本代表</span><span style=\"background-color: #fdffff\">として</span><span style=\"background-color: #f6ffff\">メキシコ</span><span style=\"background-color: #f5ffff\">五輪</span><span style=\"background-color: #faffff\">に出場した</span><span style=\"background-color: #faffff\">鈴木</span><span style=\"background-color: #feffff\">良</span><span style=\"background-color: #ffffff\">三</span><span style=\"background-color: #ffffff\">さん</span><span style=\"background-color: #ffffff\">を</span><span style=\"background-color: #ffffff\">大</span><span style=\"background-color: #f9ffff\">伯父</span><span style=\"background-color: #ffffff\">に</span><span style=\"background-color: #ffffff\">持つ</span><span style=\"background-color: #edffff\">斎藤</span><span style=\"background-color: #ffffff\">ち</span><span style=\"background-color: #ffffff\">は</span><span style=\"background-color: #ffffff\">る</span><span style=\"background-color: #ffffff\">や</span><span style=\"background-color: #fdffff\">、</span><span style=\"background-color: #fdffff\">元</span><span style=\"background-color: #fbffff\">プロ</span><span style=\"background-color: #e7ffff\">サッカー選手</span><span style=\"background-color: #fcffff\">・</span><span style=\"background-color: #ffffff\">宮</span><span style=\"background-color: #fdffff\">澤</span><span style=\"background-color: #fcffff\">ミシェル</span><span style=\"background-color: #ffffff\">さん</span><span style=\"background-color: #ffffff\">を</span><span style=\"background-color: #fdffff\">父</span><span style=\"background-color: #ffffff\">に</span><span style=\"background-color: #ffffff\">持つ</span><span style=\"background-color: #ffffff\">宮</span><span style=\"background-color: #feffff\">澤</span><span style=\"background-color: #ffffff\">成</span><span style=\"background-color: #ffffff\">良</span><span style=\"background-color: #feffff\">など</span><span style=\"background-color: #fdffff\">、</span><span style=\"background-color: #e6ffff\">サッカー</span><span style=\"background-color: #ffffff\">に</span><span style=\"background-color: #ffffff\">所</span><span style=\"background-color: #feffff\">縁</span><span style=\"background-color: #ffffff\">のある</span><span style=\"background-color: #fdffff\">メンバー</span><span style=\"background-color: #ffffff\">も</span><span style=\"background-color: #feffff\">属</span><span style=\"background-color: #ffffff\">する</span><span style=\"background-color: #feffff\">同</span><span style=\"background-color: #feffff\">グループは</span><span style=\"background-color: #fdffff\">、</span><span style=\"background-color: #ffffff\">左</span><span style=\"background-color: #ffffff\">胸</span><span style=\"background-color: #ffffff\">に</span><span style=\"background-color: #ffffff\">「</span><span style=\"background-color: #fdffff\">46</span><span style=\"background-color: #feffff\">」</span><span style=\"background-color: #feffff\">という</span><span style=\"background-color: #f6ffff\">番号</span><span style=\"background-color: #feffff\">が入った</span><span style=\"background-color: #e1ffff\">ユニフォーム</span><span style=\"background-color: #fcffff\">姿で</span><span style=\"background-color: #fdffff\">ピッチ</span><span style=\"background-color: #ffffff\">に</span><span style=\"background-color: #feffff\">姿</span><span style=\"background-color: #ecffff\">を表す</span><span style=\"background-color: #ffffff\">と</span><span style=\"background-color: #fdffff\">、</span><span style=\"background-color: #f3ffff\">公式</span><span style=\"background-color: #f8ffff\">応援</span><span style=\"background-color: #f0ffff\">ソング</span><span style=\"background-color: #fcffff\">「</span><span style=\"background-color: #fdffff\">左</span><span style=\"background-color: #feffff\">胸</span><span style=\"background-color: #ffffff\">の</span><span style=\"background-color: #fdffff\">勇気</span><span style=\"background-color: #feffff\">」</span><span style=\"background-color: #f3ffff\">を披露した</span><span style=\"background-color: #f9ffff\">。</span><span style=\"background-color: #feffff\">だが</span><span style=\"background-color: #feffff\">“</span><span style=\"background-color: #e2ffff\">さいたま</span><span style=\"background-color: #f4ffff\">ダービー</span><span style=\"background-color: #ffffff\">”</span><span style=\"background-color: #ffffff\">という</span><span style=\"background-color: #f8ffff\">両軍</span><span style=\"background-color: #f5ffff\">サポーター</span><span style=\"background-color: #ffffff\">が</span><span style=\"background-color: #feffff\">いつも</span><span style=\"background-color: #ffffff\">以上に</span><span style=\"background-color: #feffff\">猛</span><span style=\"background-color: #c3ffff\">り</span><span style=\"background-color: #fcffff\">立つ</span><span style=\"background-color: #f9ffff\">試合</span><span style=\"background-color: #ffffff\">前</span><span style=\"background-color: #f2ffff\">—</span><span style=\"background-color: #f2ffff\">—</span><span style=\"background-color: #fdffff\">、</span><span style=\"background-color: #ccffff\">乃木坂</span><span style=\"background-color: #fcffff\">46</span><span style=\"background-color: #ffffff\">は</span><span style=\"background-color: #e1ffff\">登場</span><span style=\"background-color: #fcffff\">時から</span><span style=\"background-color: #feffff\">主に</span><span style=\"background-color: #f3ffff\">浦和</span><span style=\"background-color: #f2ffff\">レッズ</span><span style=\"background-color: #f3ffff\">サポーター</span><span style=\"background-color: #fdffff\">から</span><span style=\"background-color: #ffffff\">大</span><span style=\"background-color: #fcffff\">ブー</span><span style=\"background-color: #f9ffff\">イング</span><span style=\"background-color: #fbffff\">を浴び</span><span style=\"background-color: #ffffff\">た</span><span style=\"background-color: #faffff\">ばかり</span><span style=\"background-color: #fdffff\">か</span><span style=\"background-color: #fdffff\">、</span><span style=\"background-color: #feffff\">中には</span><span style=\"background-color: #fcffff\">14</span><span style=\"background-color: #fbffff\">歳</span><span style=\"background-color: #fcffff\">のメンバー</span><span style=\"background-color: #faffff\">もいる</span><span style=\"background-color: #c6ffff\">乃木坂</span><span style=\"background-color: #faffff\">46</span><span style=\"background-color: #feffff\">が</span><span style=\"background-color: #f7ffff\">公式</span><span style=\"background-color: #f8ffff\">応援</span><span style=\"background-color: #f2ffff\">ソング</span><span style=\"background-color: #feffff\">を</span><span style=\"background-color: #fcffff\">歌い</span><span style=\"background-color: #f9ffff\">始める</span><span style=\"background-color: #feffff\">と</span><span style=\"background-color: #fdffff\">、</span><span style=\"background-color: #f7ffff\">同</span><span style=\"background-color: #f1ffff\">サポーター</span><span style=\"background-color: #ffffff\">は</span><span style=\"background-color: #fdffff\">チャン</span><span style=\"background-color: #ffffff\">ト</span><span style=\"background-color: #ffffff\">や</span><span style=\"background-color: #feffff\">鳴り</span><span style=\"background-color: #ffffff\">物</span><span style=\"background-color: #feffff\">で</span><span style=\"background-color: #f8ffff\">妨害</span><span style=\"background-color: #fdffff\">をはじめ</span><span style=\"background-color: #ffffff\">た</span><span style=\"background-color: #f9ffff\">。</span><span style=\"background-color: #ccffff\">今回</span><span style=\"background-color: #ffffff\">の</span><span style=\"background-color: #ffffff\">一</span><span style=\"background-color: #fdffff\">件</span><span style=\"background-color: #feffff\">が</span><span style=\"background-color: #f7ffff\">ネット</span><span style=\"background-color: #efffff\">掲示板</span><span style=\"background-color: #feffff\">上で</span><span style=\"background-color: #d3ffff\">取り上げられる</span><span style=\"background-color: #fdffff\">と</span><span style=\"background-color: #00ffff\">、「</span><span style=\"background-color: #eaffff\">レッズ</span><span style=\"background-color: #ffffff\">は</span><span style=\"background-color: #f4ffff\">ダメ</span><span style=\"background-color: #f9ffff\">だ</span><span style=\"background-color: #ffffff\">な</span><span style=\"background-color: #f1ffff\">w</span><span style=\"background-color: #e6ffff\">」「</span><span style=\"background-color: #f6ffff\">ブー</span><span style=\"background-color: #eeffff\">イング</span><span style=\"background-color: #fdffff\">が</span><span style=\"background-color: #feffff\">どう</span><span style=\"background-color: #f9ffff\">こう</span><span style=\"background-color: #fdffff\">よりも</span><span style=\"background-color: #fdffff\">、</span><span style=\"background-color: #fbffff\">鳴り</span><span style=\"background-color: #fdffff\">物</span><span style=\"background-color: #feffff\">まで</span><span style=\"background-color: #fdffff\">使</span><span style=\"background-color: #f8ffff\">って</span><span style=\"background-color: #f6ffff\">必死</span><span style=\"background-color: #ffffff\">に</span><span style=\"background-color: #fcffff\">ブー</span><span style=\"background-color: #fbffff\">イング</span><span style=\"background-color: #ffffff\">して</span><span style=\"background-color: #ffffff\">る</span><span style=\"background-color: #fdffff\">自分</span><span style=\"background-color: #feffff\">を振り</span><span style=\"background-color: #feffff\">返</span><span style=\"background-color: #ffffff\">って</span><span style=\"background-color: #feffff\">だ</span><span style=\"background-color: #ffffff\">な</span><span style=\"background-color: #fcffff\">▁</span><span style=\"background-color: #ffffff\">恥</span><span style=\"background-color: #ffffff\">ず</span><span style=\"background-color: #ffffff\">かし</span><span style=\"background-color: #f5ffff\">くない</span><span style=\"background-color: #ffffff\">の</span><span style=\"background-color: #ffffff\">かな</span><span style=\"background-color: #9effff\">?」</span><span style=\"background-color: #fbffff\">「</span><span style=\"background-color: #f5ffff\">中学生</span><span style=\"background-color: #faffff\">相手に</span><span style=\"background-color: #feffff\">は</span><span style=\"background-color: #fcffff\">可</span><span style=\"background-color: #f8ffff\">哀</span><span style=\"background-color: #faffff\">想</span><span style=\"background-color: #fcffff\">だ</span><span style=\"background-color: #ffffff\">な</span><span style=\"background-color: #f4ffff\">w</span><span style=\"background-color: #e1ffff\">」「</span>"
      ],
      "text/plain": [
       "<IPython.core.display.HTML object>"
      ]
     },
     "metadata": {},
     "output_type": "display_data"
    },
    {
     "name": "stdout",
     "output_type": "stream",
     "text": [
      "\n",
      "predict class is sports-watch\n",
      "ground truth class is sports-watch\n"
     ]
    },
    {
     "data": {
      "text/html": [
       "<span style=\"background-color: #edffff\">▁</span><span style=\"background-color: #f6ffff\">27</span><span style=\"background-color: #bdffff\">日深夜</span><span style=\"background-color: #f9ffff\">、</span><span style=\"background-color: #c5ffff\">tbs</span><span style=\"background-color: #feffff\">の</span><span style=\"background-color: #d9ffff\">スポーツ</span><span style=\"background-color: #e5ffff\">番組</span><span style=\"background-color: #fcffff\">「</span><span style=\"background-color: #fcffff\">s</span><span style=\"background-color: #fdffff\">1</span><span style=\"background-color: #f9ffff\">」</span><span style=\"background-color: #f9ffff\">では</span><span style=\"background-color: #f9ffff\">、</span><span style=\"background-color: #edffff\">毎週</span><span style=\"background-color: #eaffff\">恒例</span><span style=\"background-color: #edffff\">となった</span><span style=\"background-color: #e6ffff\">東北</span><span style=\"background-color: #19ffff\">楽天</span><span style=\"background-color: #eaffff\">ゴールデン</span><span style=\"background-color: #deffff\">イーグル</span><span style=\"background-color: #fdffff\">ス</span><span style=\"background-color: #f5ffff\">元</span><span style=\"background-color: #e0ffff\">監督</span><span style=\"background-color: #f9ffff\">・</span><span style=\"background-color: #e6ffff\">野村</span><span style=\"background-color: #f1ffff\">克</span><span style=\"background-color: #fcffff\">也</span><span style=\"background-color: #ebffff\">氏</span><span style=\"background-color: #faffff\">による</span><span style=\"background-color: #faffff\">「</span><span style=\"background-color: #ffffff\">ノ</span><span style=\"background-color: #ffffff\">ム</span><span style=\"background-color: #f3ffff\">さん</span><span style=\"background-color: #fdffff\">の</span><span style=\"background-color: #feffff\">ボ</span><span style=\"background-color: #feffff\">ヤ</span><span style=\"background-color: #feffff\">キ</span><span style=\"background-color: #efffff\">部屋</span><span style=\"background-color: #f4ffff\">」</span><span style=\"background-color: #e9ffff\">コーナー</span><span style=\"background-color: #e3ffff\">が放送された</span><span style=\"background-color: #f6ffff\">。</span><span style=\"background-color: #f9ffff\">「</span><span style=\"background-color: #a4ffff\">野球</span><span style=\"background-color: #fdffff\">は</span><span style=\"background-color: #fbffff\">終わった</span><span style=\"background-color: #f6ffff\">という</span><span style=\"background-color: #fdffff\">の</span><span style=\"background-color: #feffff\">に</span><span style=\"background-color: #f8ffff\">、</span><span style=\"background-color: #fdffff\">ボ</span><span style=\"background-color: #feffff\">ヤ</span><span style=\"background-color: #ffffff\">く</span><span style=\"background-color: #f9ffff\">材料</span><span style=\"background-color: #fcffff\">は</span><span style=\"background-color: #fcffff\">次</span><span style=\"background-color: #fdffff\">から</span><span style=\"background-color: #fcffff\">次</span><span style=\"background-color: #fcffff\">へと</span><span style=\"background-color: #fbffff\">尽き</span><span style=\"background-color: #feffff\">ない</span><span style=\"background-color: #f6ffff\">です</span><span style=\"background-color: #f9ffff\">」</span><span style=\"background-color: #fcffff\">と</span><span style=\"background-color: #feffff\">切り</span><span style=\"background-color: #ffffff\">出した</span><span style=\"background-color: #f6ffff\">野村</span><span style=\"background-color: #c5ffff\">氏は</span><span style=\"background-color: #faffff\">、</span><span style=\"background-color: #ffffff\">さ</span><span style=\"background-color: #ffffff\">っ</span><span style=\"background-color: #f9ffff\">そく</span><span style=\"background-color: #fbffff\">「</span><span style=\"background-color: #fdffff\">岩</span><span style=\"background-color: #fcffff\">隈</span><span style=\"background-color: #faffff\">、</span><span style=\"background-color: #feffff\">何</span><span style=\"background-color: #fdffff\">を</span><span style=\"background-color: #feffff\">いっ</span><span style=\"background-color: #feffff\">と</span><span style=\"background-color: #feffff\">るか</span><span style=\"background-color: #faffff\">。</span><span style=\"background-color: #fdffff\">皆</span><span style=\"background-color: #fbffff\">、</span><span style=\"background-color: #ffffff\">ポ</span><span style=\"background-color: #f6ffff\">スティング</span><span style=\"background-color: #feffff\">で</span><span style=\"background-color: #e6ffff\">メジャー</span><span style=\"background-color: #fdffff\">行き</span><span style=\"background-color: #ffffff\">たが</span><span style=\"background-color: #ffffff\">る</span><span style=\"background-color: #ebffff\">じゃない</span><span style=\"background-color: #6cffff\">ですか</span><span style=\"background-color: #faffff\">。</span><span style=\"background-color: #f8ffff\">“</span><span style=\"background-color: #ffffff\">何</span><span style=\"background-color: #fdffff\">で</span><span style=\"background-color: #feffff\">行き</span><span style=\"background-color: #ffffff\">たが</span><span style=\"background-color: #ffffff\">る</span><span style=\"background-color: #ffffff\">んだ</span><span style=\"background-color: #eeffff\">?</span><span style=\"background-color: #fdffff\">”</span><span style=\"background-color: #ffffff\">って</span><span style=\"background-color: #feffff\">いう</span><span style=\"background-color: #feffff\">と</span><span style=\"background-color: #e2ffff\">、“</span><span style=\"background-color: #fbffff\">僕</span><span style=\"background-color: #feffff\">の</span><span style=\"background-color: #feffff\">小さい</span><span style=\"background-color: #fbffff\">時から</span><span style=\"background-color: #feffff\">の</span><span style=\"background-color: #fdffff\">夢</span><span style=\"background-color: #feffff\">で</span><span style=\"background-color: #ffffff\">した</span><span style=\"background-color: #fdffff\">”</span><span style=\"background-color: #ffffff\">って</span><span style=\"background-color: #fcffff\">。</span><span style=\"background-color: #fcffff\">夢</span><span style=\"background-color: #ffffff\">って</span><span style=\"background-color: #faffff\">いう</span><span style=\"background-color: #feffff\">の</span><span style=\"background-color: #feffff\">は</span><span style=\"background-color: #feffff\">金</span><span style=\"background-color: #feffff\">で</span><span style=\"background-color: #fdffff\">買</span><span style=\"background-color: #ffffff\">う</span><span style=\"background-color: #fdffff\">の</span><span style=\"background-color: #fcffff\">?</span><span style=\"background-color: #fdffff\">お金</span><span style=\"background-color: #feffff\">が</span><span style=\"background-color: #faffff\">安い</span><span style=\"background-color: #feffff\">から</span><span style=\"background-color: #fbffff\">、</span><span style=\"background-color: #fdffff\">合わない</span><span style=\"background-color: #feffff\">から</span><span style=\"background-color: #ffffff\">行</span><span style=\"background-color: #f7ffff\">かない</span><span style=\"background-color: #feffff\">って</span><span style=\"background-color: #f6ffff\">いう</span><span style=\"background-color: #fbffff\">。</span><span style=\"background-color: #1dffff\">年俸</span><span style=\"background-color: #fcffff\">100</span><span style=\"background-color: #fdffff\">万</span><span style=\"background-color: #fcffff\">でも</span><span style=\"background-color: #feffff\">行</span><span style=\"background-color: #fbffff\">けば</span><span style=\"background-color: #fdffff\">いい</span><span style=\"background-color: #ffffff\">んだ</span><span style=\"background-color: #ffffff\">よ</span><span style=\"background-color: #ebffff\">。</span><span style=\"background-color: #faffff\">夢</span><span style=\"background-color: #fcffff\">を</span><span style=\"background-color: #f9ffff\">叶</span><span style=\"background-color: #feffff\">える</span><span style=\"background-color: #fbffff\">ために</span><span style=\"background-color: #fcffff\">は</span><span style=\"background-color: #faffff\">、</span><span style=\"background-color: #faffff\">お金</span><span style=\"background-color: #fdffff\">は</span><span style=\"background-color: #f7ffff\">関係</span><span style=\"background-color: #feffff\">ない</span><span style=\"background-color: #f7ffff\">」</span><span style=\"background-color: #fbffff\">と</span><span style=\"background-color: #fdffff\">一</span><span style=\"background-color: #f6ffff\">刀</span><span style=\"background-color: #f9ffff\">両</span><span style=\"background-color: #f6ffff\">断</span><span style=\"background-color: #feffff\">した</span><span style=\"background-color: #f7ffff\">。</span><span style=\"background-color: #fdffff\">さらに</span><span style=\"background-color: #00ffff\">、「</span><span style=\"background-color: #faffff\">岩</span><span style=\"background-color: #faffff\">隈</span><span style=\"background-color: #fcffff\">の</span><span style=\"background-color: #e3ffff\">決断</span><span style=\"background-color: #feffff\">って</span><span style=\"background-color: #f8ffff\">いう</span><span style=\"background-color: #fcffff\">の</span><span style=\"background-color: #fdffff\">は</span><span style=\"background-color: #faffff\">寂</span><span style=\"background-color: #e9ffff\">しい</span><span style=\"background-color: #d2ffff\">ね</span><span style=\"background-color: #f9ffff\">。</span><span style=\"background-color: #fcffff\">お金</span><span style=\"background-color: #faffff\">、</span><span style=\"background-color: #fbffff\">お金</span><span style=\"background-color: #ffffff\">って</span><span style=\"background-color: #fbffff\">、</span><span style=\"background-color: #fdffff\">金</span><span style=\"background-color: #ffffff\">は</span><span style=\"background-color: #faffff\">向こう</span><span style=\"background-color: #fdffff\">行って</span><span style=\"background-color: #f8ffff\">稼</span><span style=\"background-color: #feffff\">げ</span><span style=\"background-color: #ffffff\">ば</span><span style=\"background-color: #fdffff\">いい</span><span style=\"background-color: #fcffff\">じゃ</span><span style=\"background-color: #ffffff\">ん</span><span style=\"background-color: #f9ffff\">。</span><span style=\"background-color: #feffff\">せ</span><span style=\"background-color: #fcffff\">っか</span><span style=\"background-color: #ffffff\">く</span><span style=\"background-color: #fcffff\">の</span><span style=\"background-color: #ecffff\">チャンス</span><span style=\"background-color: #fdffff\">を</span><span style=\"background-color: #fdffff\">ね</span><span style=\"background-color: #faffff\">。</span><span style=\"background-color: #fbffff\">という</span><span style=\"background-color: #fcffff\">の</span><span style=\"background-color: #fcffff\">が</span><span style=\"background-color: #faffff\">、</span><span style=\"background-color: #e6ffff\">私の</span><span style=\"background-color: #d5ffff\">見解</span><span style=\"background-color: #d2ffff\">です</span><span style=\"background-color: #faffff\">」</span><span style=\"background-color: #faffff\">と</span><span style=\"background-color: #f8ffff\">続けた</span><span style=\"background-color: #f0ffff\">野村</span><span style=\"background-color: #f4ffff\">氏</span><span style=\"background-color: #ecffff\">だったが</span><span style=\"background-color: #f9ffff\">、</span><span style=\"background-color: #fdffff\">西</span><span style=\"background-color: #f8ffff\">岡</span><span style=\"background-color: #e5ffff\">剛</span><span style=\"background-color: #f5ffff\">については</span><span style=\"background-color: #f8ffff\">「</span><span style=\"background-color: #fdffff\">西</span><span style=\"background-color: #f7ffff\">岡</span><span style=\"background-color: #feffff\">は</span><span style=\"background-color: #f9ffff\">、</span><span style=\"background-color: #fcffff\">本当に</span><span style=\"background-color: #fbffff\">拍</span><span style=\"background-color: #feffff\">手</span><span style=\"background-color: #feffff\">やって</span><span style=\"background-color: #fcffff\">もいい</span><span style=\"background-color: #b0ffff\">んじゃ</span><span style=\"background-color: #ffffff\">ない</span><span style=\"background-color: #f9ffff\">。</span><span style=\"background-color: #fbffff\">岩</span><span style=\"background-color: #f4ffff\">隈</span><span style=\"background-color: #fcffff\">の</span><span style=\"background-color: #faffff\">3</span><span style=\"background-color: #e9ffff\">分の</span><span style=\"background-color: #faffff\">1</span><span style=\"background-color: #ebffff\">。</span><span style=\"background-color: #faffff\">彼の</span><span style=\"background-color: #50ffff\">言動</span><span style=\"background-color: #f8ffff\">みて</span><span style=\"background-color: #fdffff\">ると</span><span style=\"background-color: #f8ffff\">、</span><span style=\"background-color: #f3ffff\">お金</span><span style=\"background-color: #fcffff\">は</span><span style=\"background-color: #f0ffff\">関係</span><span style=\"background-color: #feffff\">ない</span>"
      ],
      "text/plain": [
       "<IPython.core.display.HTML object>"
      ]
     },
     "metadata": {},
     "output_type": "display_data"
    },
    {
     "name": "stdout",
     "output_type": "stream",
     "text": [
      "\n",
      "predict class is smax\n",
      "ground truth class is smax\n"
     ]
    },
    {
     "data": {
      "text/html": [
       "<span style=\"background-color: #faffff\">▁</span><span style=\"background-color: #fbffff\">ゼロ</span><span style=\"background-color: #ffffff\">から</span><span style=\"background-color: #f9ffff\">始める</span><span style=\"background-color: #61ffff\">スマートフォン</span><span style=\"background-color: #00ffff\">東芝</span><span style=\"background-color: #fdffff\">は</span><span style=\"background-color: #9dffff\">、</span><span style=\"background-color: #feffff\">5</span><span style=\"background-color: #feffff\">月</span><span style=\"background-color: #fdffff\">14</span><span style=\"background-color: #ffffff\">日</span><span style=\"background-color: #feffff\">(</span><span style=\"background-color: #ffffff\">月</span><span style=\"background-color: #f4ffff\">)</span><span style=\"background-color: #ffffff\">に</span><span style=\"background-color: #f7ffff\">発表した</span><span style=\"background-color: #7dffff\">新型</span><span style=\"background-color: #ccffff\">タブレット</span><span style=\"background-color: #fdffff\">「</span><span style=\"background-color: #fcffff\">reg</span><span style=\"background-color: #feffff\">za</span><span style=\"background-color: #e3ffff\">▁</span><span style=\"background-color: #fcffff\">table</span><span style=\"background-color: #feffff\">t</span><span style=\"background-color: #fcffff\">▁at</span><span style=\"background-color: #ffffff\">5</span><span style=\"background-color: #feffff\">70</span><span style=\"background-color: #fbffff\">」</span><span style=\"background-color: #faffff\">および</span><span style=\"background-color: #fdffff\">「</span><span style=\"background-color: #fdffff\">reg</span><span style=\"background-color: #feffff\">za</span><span style=\"background-color: #f1ffff\">▁</span><span style=\"background-color: #fcffff\">table</span><span style=\"background-color: #feffff\">t</span><span style=\"background-color: #fdffff\">▁at</span><span style=\"background-color: #feffff\">500</span><span style=\"background-color: #fdffff\">」</span><span style=\"background-color: #f9ffff\">の販売</span><span style=\"background-color: #ffffff\">が</span><span style=\"background-color: #f8ffff\">開始</span><span style=\"background-color: #ffffff\">し</span><span style=\"background-color: #5bffff\">ています</span><span style=\"background-color: #f0ffff\">。</span><span style=\"background-color: #fcffff\">どちらも</span><span style=\"background-color: #8effff\">android</span><span style=\"background-color: #f8ffff\">▁</span><span style=\"background-color: #feffff\">4</span><span style=\"background-color: #faffff\">.</span><span style=\"background-color: #fdffff\">0</span><span style=\"background-color: #faffff\">(</span><span style=\"background-color: #fdffff\">開発</span><span style=\"background-color: #fdffff\">コード</span><span style=\"background-color: #feffff\">名</span><span style=\"background-color: #f5ffff\">:</span><span style=\"background-color: #faffff\">ice</span><span style=\"background-color: #fdffff\">cre</span><span style=\"background-color: #fdffff\">am</span><span style=\"background-color: #fbffff\">▁san</span><span style=\"background-color: #feffff\">d</span><span style=\"background-color: #f9ffff\">wi</span><span style=\"background-color: #fdffff\">ch</span><span style=\"background-color: #d8ffff\">;</span><span style=\"background-color: #faffff\">ics</span><span style=\"background-color: #feffff\">)</span><span style=\"background-color: #ffffff\">や</span><span style=\"background-color: #fdffff\">n</span><span style=\"background-color: #feffff\">vi</span><span style=\"background-color: #f1ffff\">dia</span><span style=\"background-color: #fcffff\">製</span><span style=\"background-color: #ffffff\">ク</span><span style=\"background-color: #ffffff\">ア</span><span style=\"background-color: #ffffff\">ッド</span><span style=\"background-color: #feffff\">コア</span><span style=\"background-color: #deffff\">プロセッサ</span><span style=\"background-color: #feffff\">「</span><span style=\"background-color: #ffffff\">te</span><span style=\"background-color: #feffff\">gra</span><span style=\"background-color: #ffffff\">3</span><span style=\"background-color: #feffff\">」</span><span style=\"background-color: #f9ffff\">を搭載した</span><span style=\"background-color: #feffff\">ハイ</span><span style=\"background-color: #f6ffff\">スペック</span><span style=\"background-color: #fbffff\">モデル</span><span style=\"background-color: #ffffff\">で</span><span style=\"background-color: #faffff\">、</span><span style=\"background-color: #ffffff\">独自の</span><span style=\"background-color: #fdffff\">映像</span><span style=\"background-color: #feffff\">処理</span><span style=\"background-color: #fdffff\">技術</span><span style=\"background-color: #ffffff\">「</span><span style=\"background-color: #ffffff\">レ</span><span style=\"background-color: #ffffff\">ゾ</span><span style=\"background-color: #ffffff\">リュー</span><span style=\"background-color: #ffffff\">ション</span><span style=\"background-color: #fcffff\">プラス</span><span style=\"background-color: #ffffff\">」</span><span style=\"background-color: #ffffff\">や</span><span style=\"background-color: #fdffff\">、</span><span style=\"background-color: #ffffff\">聴き</span><span style=\"background-color: #ffffff\">取り</span><span style=\"background-color: #ffffff\">やすい</span><span style=\"background-color: #ffffff\">音</span><span style=\"background-color: #ffffff\">を</span><span style=\"background-color: #fbffff\">出力</span><span style=\"background-color: #feffff\">する</span><span style=\"background-color: #feffff\">「</span><span style=\"background-color: #ffffff\">聴き</span><span style=\"background-color: #ffffff\">とり</span><span style=\"background-color: #feffff\">やすさ</span><span style=\"background-color: #feffff\">コントロール</span><span style=\"background-color: #feffff\">」</span><span style=\"background-color: #fbffff\">、</span><span style=\"background-color: #f2ffff\">東芝</span><span style=\"background-color: #feffff\">製</span><span style=\"background-color: #fbffff\">av</span><span style=\"background-color: #fdffff\">機器</span><span style=\"background-color: #feffff\">との連携</span><span style=\"background-color: #feffff\">機能</span><span style=\"background-color: #feffff\">など</span><span style=\"background-color: #fdffff\">を備え</span><span style=\"background-color: #f1ffff\">ています</span><span style=\"background-color: #fdffff\">。</span><span style=\"background-color: #feffff\">reg</span><span style=\"background-color: #ffffff\">za</span><span style=\"background-color: #feffff\">▁</span><span style=\"background-color: #feffff\">table</span><span style=\"background-color: #ffffff\">t</span><span style=\"background-color: #f9ffff\">▁at</span><span style=\"background-color: #ffffff\">5</span><span style=\"background-color: #ffffff\">70</span><span style=\"background-color: #ffffff\">は</span><span style=\"background-color: #fdffff\">、</span><span style=\"background-color: #ffffff\">7</span><span style=\"background-color: #feffff\">.</span><span style=\"background-color: #ffffff\">7</span><span style=\"background-color: #feffff\">インチ</span><span style=\"background-color: #feffff\">w</span><span style=\"background-color: #fcffff\">x</span><span style=\"background-color: #feffff\">ga</span><span style=\"background-color: #feffff\">(</span><span style=\"background-color: #fdffff\">12</span><span style=\"background-color: #feffff\">80</span><span style=\"background-color: #f5ffff\">×</span><span style=\"background-color: #ffffff\">800</span><span style=\"background-color: #ffffff\">)</span><span style=\"background-color: #ffffff\">の</span><span style=\"background-color: #fdffff\">有機</span><span style=\"background-color: #feffff\">el</span><span style=\"background-color: #f9ffff\">ディスプレイ</span><span style=\"background-color: #ecffff\">を搭載した</span><span style=\"background-color: #f9ffff\">コンパクト</span><span style=\"background-color: #f4ffff\">モデル</span><span style=\"background-color: #f7ffff\">です</span><span style=\"background-color: #f9ffff\">。</span><span style=\"background-color: #f9ffff\">有機</span><span style=\"background-color: #fdffff\">el</span><span style=\"background-color: #d0ffff\">ディスプレイ</span><span style=\"background-color: #ffffff\">の</span><span style=\"background-color: #d6ffff\">採用</span><span style=\"background-color: #ffffff\">により</span><span style=\"background-color: #f9ffff\">、</span><span style=\"background-color: #fdffff\">高い</span><span style=\"background-color: #ffffff\">色</span><span style=\"background-color: #fbffff\">再現</span><span style=\"background-color: #fdffff\">性</span><span style=\"background-color: #ffffff\">と</span><span style=\"background-color: #fdffff\">高</span><span style=\"background-color: #fdffff\">コン</span><span style=\"background-color: #e9ffff\">トラスト</span><span style=\"background-color: #d8ffff\">を実現し</span><span style=\"background-color: #fdffff\">ており</span><span style=\"background-color: #f9ffff\">、</span><span style=\"background-color: #feffff\">深</span><span style=\"background-color: #ffffff\">み</span><span style=\"background-color: #f8ffff\">のある</span><span style=\"background-color: #f1ffff\">美しい</span><span style=\"background-color: #fbffff\">映像</span><span style=\"background-color: #feffff\">を楽しむ</span><span style=\"background-color: #fcffff\">こと</span><span style=\"background-color: #feffff\">が出来</span><span style=\"background-color: #deffff\">ます</span><span style=\"background-color: #f7ffff\">。</span><span style=\"background-color: #f9ffff\">端末</span><span style=\"background-color: #fdffff\">サイズ</span><span style=\"background-color: #feffff\">は</span><span style=\"background-color: #feffff\">20</span><span style=\"background-color: #feffff\">4</span><span style=\"background-color: #fdffff\">.</span><span style=\"background-color: #ffffff\">5</span><span style=\"background-color: #f8ffff\">×</span><span style=\"background-color: #feffff\">135</span><span style=\"background-color: #fcffff\">.</span><span style=\"background-color: #ffffff\">2</span><span style=\"background-color: #f0ffff\">×</span><span style=\"background-color: #ffffff\">7</span><span style=\"background-color: #fcffff\">.</span><span style=\"background-color: #ffffff\">9</span><span style=\"background-color: #feffff\">mm</span><span style=\"background-color: #fcffff\">、</span><span style=\"background-color: #ecffff\">重さ</span><span style=\"background-color: #ffffff\">は</span><span style=\"background-color: #feffff\">33</span><span style=\"background-color: #feffff\">2</span><span style=\"background-color: #feffff\">g</span><span style=\"background-color: #feffff\">と</span><span style=\"background-color: #fbffff\">、</span><span style=\"background-color: #f2ffff\">軽量</span><span style=\"background-color: #feffff\">・</span><span style=\"background-color: #f4ffff\">コンパクト</span><span style=\"background-color: #ffffff\">で</span><span style=\"background-color: #fbffff\">、</span><span style=\"background-color: #f3ffff\">携帯</span><span style=\"background-color: #fdffff\">性</span><span style=\"background-color: #ffffff\">も</span><span style=\"background-color: #ffffff\">十分</span><span style=\"background-color: #f6ffff\">。</span><span style=\"background-color: #c5ffff\">カメラ</span><span style=\"background-color: #ffffff\">は</span><span style=\"background-color: #eeffff\">背面</span><span style=\"background-color: #feffff\">500</span><span style=\"background-color: #feffff\">万</span><span style=\"background-color: #feffff\">画</span><span style=\"background-color: #ffffff\">素</span><span style=\"background-color: #feffff\">/</span><span style=\"background-color: #fdffff\">前面</span><span style=\"background-color: #feffff\">200</span><span style=\"background-color: #feffff\">万</span><span style=\"background-color: #feffff\">画</span><span style=\"background-color: #ffffff\">素</span><span style=\"background-color: #ffffff\">の</span><span style=\"background-color: #feffff\">cm</span><span style=\"background-color: #feffff\">os</span><span style=\"background-color: #ffffff\">の</span><span style=\"background-color: #f6ffff\">センサー</span><span style=\"background-color: #faffff\">を搭載し</span><span style=\"background-color: #98ffff\">ています</span><span style=\"background-color: #f0ffff\">。</span><span style=\"background-color: #fbffff\">同</span><span style=\"background-color: #f8ffff\">モデル</span><span style=\"background-color: #fdffff\">には</span><span style=\"background-color: #e1ffff\">内蔵</span><span style=\"background-color: #ffffff\">スト</span><span style=\"background-color: #a6ffff\">レー</span><span style=\"background-color: #feffff\">ジ</span><span style=\"background-color: #ffffff\">が</span><span style=\"background-color: #fdffff\">32</span><span style=\"background-color: #e7ffff\">gb</span><span style=\"background-color: #ffffff\">の</span><span style=\"background-color: #fcffff\">「</span><span style=\"background-color: #faffff\">at</span><span style=\"background-color: #ffffff\">5</span><span style=\"background-color: #feffff\">70</span><span style=\"background-color: #fdffff\">/</span><span style=\"background-color: #feffff\">36</span>"
      ],
      "text/plain": [
       "<IPython.core.display.HTML object>"
      ]
     },
     "metadata": {},
     "output_type": "display_data"
    },
    {
     "name": "stdout",
     "output_type": "stream",
     "text": [
      "\n",
      "predict class is topic-news\n",
      "ground truth class is topic-news\n"
     ]
    },
    {
     "data": {
      "text/html": [
       "<span style=\"background-color: #f7ffff\">▁</span><span style=\"background-color: #f6ffff\">1</span><span style=\"background-color: #efffff\">月</span><span style=\"background-color: #f9ffff\">17</span><span style=\"background-color: #daffff\">日放送</span><span style=\"background-color: #f3ffff\">予定</span><span style=\"background-color: #fdffff\">の</span><span style=\"background-color: #e9ffff\">フジテレビ</span><span style=\"background-color: #faffff\">「</span><span style=\"background-color: #f6ffff\">なかよし</span><span style=\"background-color: #efffff\">テレビ</span><span style=\"background-color: #deffff\">▁</span><span style=\"background-color: #ebffff\">ゴールデン</span><span style=\"background-color: #f4ffff\">言い</span><span style=\"background-color: #feffff\">たい</span><span style=\"background-color: #fdffff\">放</span><span style=\"background-color: #f8ffff\">題</span><span style=\"background-color: #edffff\">sp</span><span style=\"background-color: #f9ffff\">」</span><span style=\"background-color: #fdffff\">の</span><span style=\"background-color: #ecffff\">宣伝</span><span style=\"background-color: #fcffff\">で</span><span style=\"background-color: #f9ffff\">、</span><span style=\"background-color: #fbffff\">マツ</span><span style=\"background-color: #fdffff\">コ</span><span style=\"background-color: #f9ffff\">デラックス</span><span style=\"background-color: #fdffff\">が</span><span style=\"background-color: #c3ffff\">韓国人</span><span style=\"background-color: #f8ffff\">に対して</span><span style=\"background-color: #fbffff\">「</span><span style=\"background-color: #feffff\">出て</span><span style=\"background-color: #ffffff\">け</span><span style=\"background-color: #f0ffff\">!</span><span style=\"background-color: #eeffff\">日本</span><span style=\"background-color: #fcffff\">が</span><span style=\"background-color: #f8ffff\">嫌</span><span style=\"background-color: #f9ffff\">だった</span><span style=\"background-color: #feffff\">ら</span><span style=\"background-color: #feffff\">出て</span><span style=\"background-color: #ffffff\">け</span><span style=\"background-color: #fcffff\">!」</span><span style=\"background-color: #fdffff\">と</span><span style=\"background-color: #faffff\">叫</span><span style=\"background-color: #fcffff\">んでいる</span><span style=\"background-color: #f8ffff\">cm</span><span style=\"background-color: #f9ffff\">が流れ</span><span style=\"background-color: #faffff\">、</span><span style=\"background-color: #e4ffff\">ネット</span><span style=\"background-color: #00ffff\">掲示板</span><span style=\"background-color: #fdffff\">で</span><span style=\"background-color: #efffff\">話題</span><span style=\"background-color: #f8ffff\">になっている</span><span style=\"background-color: #f6ffff\">。</span><span style=\"background-color: #faffff\">「</span><span style=\"background-color: #f7ffff\">なかよし</span><span style=\"background-color: #f7ffff\">テレビ</span><span style=\"background-color: #fbffff\">」</span><span style=\"background-color: #feffff\">は</span><span style=\"background-color: #fcffff\">毎回</span><span style=\"background-color: #feffff\">大</span><span style=\"background-color: #ffffff\">物</span><span style=\"background-color: #fdffff\">ゲスト</span><span style=\"background-color: #feffff\">が</span><span style=\"background-color: #f2ffff\">日本代表</span><span style=\"background-color: #feffff\">として</span><span style=\"background-color: #faffff\">登場し</span><span style=\"background-color: #fcffff\">、</span><span style=\"background-color: #f7ffff\">中国</span><span style=\"background-color: #feffff\">や</span><span style=\"background-color: #f2ffff\">韓国の</span><span style=\"background-color: #feffff\">お</span><span style=\"background-color: #fbffff\">国</span><span style=\"background-color: #fbffff\">自慢</span><span style=\"background-color: #fdffff\">をする</span><span style=\"background-color: #fbffff\">論</span><span style=\"background-color: #fbffff\">客</span><span style=\"background-color: #f4ffff\">相手に</span><span style=\"background-color: #feffff\">大</span><span style=\"background-color: #feffff\">ゲン</span><span style=\"background-color: #ffffff\">カ</span><span style=\"background-color: #fcffff\">を繰り広げる</span><span style=\"background-color: #f7ffff\">深夜</span><span style=\"background-color: #fdffff\">帯</span><span style=\"background-color: #f7ffff\">放送</span><span style=\"background-color: #ffffff\">の</span><span style=\"background-color: #fcffff\">番組</span><span style=\"background-color: #f8ffff\">だ</span><span style=\"background-color: #f8ffff\">。</span><span style=\"background-color: #faffff\">話題</span><span style=\"background-color: #fbffff\">になっている</span><span style=\"background-color: #fdffff\">1</span><span style=\"background-color: #fdffff\">月</span><span style=\"background-color: #fdffff\">17</span><span style=\"background-color: #e9ffff\">日放送</span><span style=\"background-color: #feffff\">の</span><span style=\"background-color: #fdffff\">「</span><span style=\"background-color: #fbffff\">なかよし</span><span style=\"background-color: #f6ffff\">テレビ</span><span style=\"background-color: #fdffff\">」</span><span style=\"background-color: #ffffff\">は</span><span style=\"background-color: #fdffff\">初の</span><span style=\"background-color: #faffff\">ゴールデン</span><span style=\"background-color: #fdffff\">進出</span><span style=\"background-color: #feffff\">の</span><span style=\"background-color: #ffffff\">回</span><span style=\"background-color: #feffff\">でもあり</span><span style=\"background-color: #fdffff\">、</span><span style=\"background-color: #f8ffff\">注目を集め</span><span style=\"background-color: #fbffff\">ている</span><span style=\"background-color: #f9ffff\">。</span><span style=\"background-color: #ccffff\">今回</span><span style=\"background-color: #ffffff\">は</span><span style=\"background-color: #feffff\">、</span><span style=\"background-color: #feffff\">k</span><span style=\"background-color: #fdffff\">-</span><span style=\"background-color: #fcffff\">pop</span><span style=\"background-color: #feffff\">を</span><span style=\"background-color: #fcffff\">自慢</span><span style=\"background-color: #ffffff\">する</span><span style=\"background-color: #b4ffff\">韓国人</span><span style=\"background-color: #ecffff\">論者</span><span style=\"background-color: #fdffff\">による</span><span style=\"background-color: #f9ffff\">j</span><span style=\"background-color: #fcffff\">-</span><span style=\"background-color: #fdffff\">pop</span><span style=\"background-color: #feffff\">への</span><span style=\"background-color: #feffff\">「</span><span style=\"background-color: #feffff\">日本の</span><span style=\"background-color: #eeffff\">芸能界</span><span style=\"background-color: #ffffff\">は</span><span style=\"background-color: #ffffff\">草</span><span style=\"background-color: #f8ffff\">野球</span><span style=\"background-color: #f9ffff\">。</span><span style=\"background-color: #e0ffff\">韓国の</span><span style=\"background-color: #efffff\">芸能界</span><span style=\"background-color: #feffff\">は</span><span style=\"background-color: #e3ffff\">プロ野球</span><span style=\"background-color: #fdffff\">」</span><span style=\"background-color: #f6ffff\">といった</span><span style=\"background-color: #ccffff\">コメント</span><span style=\"background-color: #feffff\">に</span><span style=\"background-color: #fcffff\">マツ</span><span style=\"background-color: #feffff\">コ</span><span style=\"background-color: #faffff\">デラックス</span><span style=\"background-color: #fdffff\">が</span><span style=\"background-color: #feffff\">物</span><span style=\"background-color: #fdffff\">申</span><span style=\"background-color: #ffffff\">す</span><span style=\"background-color: #fcffff\">場面で</span><span style=\"background-color: #b6ffff\">、「</span><span style=\"background-color: #fdffff\">k</span><span style=\"background-color: #fbffff\">-</span><span style=\"background-color: #fcffff\">pop</span><span style=\"background-color: #fdffff\">と</span><span style=\"background-color: #feffff\">か</span><span style=\"background-color: #feffff\">見て</span><span style=\"background-color: #fcffff\">ると</span><span style=\"background-color: #f7ffff\">アメリカの</span><span style=\"background-color: #feffff\">パ</span><span style=\"background-color: #feffff\">クリ</span><span style=\"background-color: #fbffff\">にしか</span><span style=\"background-color: #fbffff\">見えない</span><span style=\"background-color: #e2ffff\">」「</span><span style=\"background-color: #feffff\">出て</span><span style=\"background-color: #ffffff\">け</span><span style=\"background-color: #f5ffff\">!</span><span style=\"background-color: #f9ffff\">日本</span><span style=\"background-color: #fdffff\">が</span><span style=\"background-color: #fcffff\">嫌</span><span style=\"background-color: #fcffff\">だった</span><span style=\"background-color: #ffffff\">ら</span><span style=\"background-color: #ffffff\">出て</span><span style=\"background-color: #ffffff\">け</span><span style=\"background-color: #c8ffff\">!」</span><span style=\"background-color: #f8ffff\">と言い</span><span style=\"background-color: #feffff\">放</span><span style=\"background-color: #f5ffff\">っている</span><span style=\"background-color: #f9ffff\">。</span><span style=\"background-color: #dcffff\">ネット</span><span style=\"background-color: #beffff\">ユーザー</span><span style=\"background-color: #fdffff\">の</span><span style=\"background-color: #d6ffff\">反応</span><span style=\"background-color: #fdffff\">は</span><span style=\"background-color: #fcffff\">「</span><span style=\"background-color: #fdffff\">マツ</span><span style=\"background-color: #ffffff\">コ</span><span style=\"background-color: #feffff\">は</span><span style=\"background-color: #feffff\">よく</span><span style=\"background-color: #feffff\">言</span><span style=\"background-color: #fbffff\">ってくれ</span><span style=\"background-color: #ffffff\">た</span><span style=\"background-color: #f9ffff\">。</span><span style=\"background-color: #faffff\">あり</span><span style=\"background-color: #feffff\">が</span><span style=\"background-color: #feffff\">たい</span><span style=\"background-color: #ceffff\">と思う</span><span style=\"background-color: #f8ffff\">。</span><span style=\"background-color: #37ffff\">」「</span><span style=\"background-color: #fcffff\">このとき</span><span style=\"background-color: #feffff\">の</span><span style=\"background-color: #fcffff\">マツ</span><span style=\"background-color: #ffffff\">コ</span><span style=\"background-color: #feffff\">は</span><span style=\"background-color: #feffff\">とても</span><span style=\"background-color: #ffffff\">か</span><span style=\"background-color: #feffff\">っこ</span><span style=\"background-color: #fdffff\">よかった</span><span style=\"background-color: #8dffff\">」「</span><span style=\"background-color: #f6ffff\">ここまで</span><span style=\"background-color: #fbffff\">テレビ</span><span style=\"background-color: #fdffff\">で</span><span style=\"background-color: #f8ffff\">言い</span><span style=\"background-color: #fbffff\">たい</span><span style=\"background-color: #f9ffff\">ことを</span><span style=\"background-color: #fbffff\">はっきり</span><span style=\"background-color: #fbffff\">言う</span><span style=\"background-color: #feffff\">の</span><span style=\"background-color: #fdffff\">は</span><span style=\"background-color: #feffff\">凄</span><span style=\"background-color: #ffffff\">い</span><span style=\"background-color: #deffff\">」「</span><span style=\"background-color: #fcffff\">マツ</span><span style=\"background-color: #feffff\">コ</span><span style=\"background-color: #feffff\">かわ</span><span style=\"background-color: #fdffff\">いい</span><span style=\"background-color: #fdffff\">よ</span><span style=\"background-color: #fdffff\">マツ</span><span style=\"background-color: #feffff\">コ</span><span style=\"background-color: #fcffff\">▁</span><span style=\"background-color: #fdffff\">」</span><span style=\"background-color: #fbffff\">といった</span><span style=\"background-color: #faffff\">マツ</span><span style=\"background-color: #ffffff\">コ</span><span style=\"background-color: #f7ffff\">デラックス</span><span style=\"background-color: #fbffff\">の意見</span><span style=\"background-color: #ffffff\">に</span><span style=\"background-color: #fdffff\">賛同</span><span style=\"background-color: #ffffff\">する</span><span style=\"background-color: #e4ffff\">ものが多い</span><span style=\"background-color: #feffff\">ものの</span><span style=\"background-color: #fcffff\">、</span><span style=\"background-color: #e7ffff\">一部の</span><span style=\"background-color: #d1ffff\">ユーザー</span><span style=\"background-color: #fcffff\">からは</span><span style=\"background-color: #f5ffff\">「</span><span style=\"background-color: #8fffff\">フジ</span><span style=\"background-color: #fdffff\">の</span><span style=\"background-color: #f4ffff\">ガス</span><span style=\"background-color: #feffff\">抜き</span><span style=\"background-color: #faffff\">だ</span><span style=\"background-color: #ffffff\">ろ</span><span style=\"background-color: #fdffff\">どう</span><span style=\"background-color: #ffffff\">せ</span><span style=\"background-color: #ecffff\">」「</span><span style=\"background-color: #fdffff\">マツ</span><span style=\"background-color: #feffff\">コ</span>"
      ],
      "text/plain": [
       "<IPython.core.display.HTML object>"
      ]
     },
     "metadata": {},
     "output_type": "display_data"
    },
    {
     "name": "stdout",
     "output_type": "stream",
     "text": [
      "\n",
      "predict class is peachy\n",
      "ground truth class is peachy\n"
     ]
    },
    {
     "data": {
      "text/html": [
       "<span style=\"background-color: #27ffff\">▁“</span><span style=\"background-color: #feffff\">誰</span><span style=\"background-color: #ffffff\">からも</span><span style=\"background-color: #feffff\">愛</span><span style=\"background-color: #ffffff\">される</span><span style=\"background-color: #e9ffff\">魔法</span><span style=\"background-color: #fbffff\">”</span><span style=\"background-color: #faffff\">があった</span><span style=\"background-color: #feffff\">ら</span><span style=\"background-color: #ffffff\">すぐに</span><span style=\"background-color: #ffffff\">でも</span><span style=\"background-color: #ffffff\">知り</span><span style=\"background-color: #feffff\">たい</span><span style=\"background-color: #ffffff\">の</span><span style=\"background-color: #ffffff\">が</span><span style=\"background-color: #6dffff\">女</span><span style=\"background-color: #ffffff\">心</span><span style=\"background-color: #eaffff\">。</span><span style=\"background-color: #fdffff\">そんな</span><span style=\"background-color: #f7ffff\">、「</span><span style=\"background-color: #fdffff\">愛</span><span style=\"background-color: #ffffff\">された</span><span style=\"background-color: #ffffff\">い</span><span style=\"background-color: #ebffff\">!」</span><span style=\"background-color: #fdffff\">という</span><span style=\"background-color: #b8ffff\">女子</span><span style=\"background-color: #ffffff\">の</span><span style=\"background-color: #ffffff\">願</span><span style=\"background-color: #ffffff\">望</span><span style=\"background-color: #ffffff\">を</span><span style=\"background-color: #ffffff\">い</span><span style=\"background-color: #feffff\">とも</span><span style=\"background-color: #feffff\">簡単に</span><span style=\"background-color: #ffffff\">叶</span><span style=\"background-color: #ffffff\">える</span><span style=\"background-color: #f0ffff\">ことが出来る</span><span style=\"background-color: #fdffff\">と</span><span style=\"background-color: #f4ffff\">話題</span><span style=\"background-color: #ffffff\">の</span><span style=\"background-color: #ffffff\">本</span><span style=\"background-color: #ffffff\">が</span><span style=\"background-color: #feffff\">「</span><span style=\"background-color: #ffffff\">いつでも</span><span style=\"background-color: #ffffff\">どこ</span><span style=\"background-color: #ffffff\">でも</span><span style=\"background-color: #f2ffff\">、</span><span style=\"background-color: #feffff\">きみ</span><span style=\"background-color: #ffffff\">に</span><span style=\"background-color: #fcffff\">夢</span><span style=\"background-color: #ffffff\">中</span><span style=\"background-color: #faffff\">」</span><span style=\"background-color: #abffff\">です</span><span style=\"background-color: #e9ffff\">。</span><span style=\"background-color: #ffffff\">大</span><span style=\"background-color: #c3ffff\">人気</span><span style=\"background-color: #fbffff\">シリーズ</span><span style=\"background-color: #cbffff\">プリンセス</span><span style=\"background-color: #b2ffff\">レッスン</span><span style=\"background-color: #ffffff\">の</span><span style=\"background-color: #feffff\">第</span><span style=\"background-color: #ffffff\">4</span><span style=\"background-color: #ffffff\">弾</span><span style=\"background-color: #ffffff\">として</span><span style=\"background-color: #ebffff\">発売され</span><span style=\"background-color: #ddffff\">ました</span><span style=\"background-color: #eeffff\">。</span><span style=\"background-color: #f7ffff\">絵本</span><span style=\"background-color: #feffff\">のように</span><span style=\"background-color: #ffffff\">かわ</span><span style=\"background-color: #feffff\">いい</span><span style=\"background-color: #fdffff\">イラスト</span><span style=\"background-color: #fdffff\">と</span><span style=\"background-color: #f0ffff\">、</span><span style=\"background-color: #fcffff\">スラ</span><span style=\"background-color: #f5ffff\">スラ</span><span style=\"background-color: #ffffff\">と</span><span style=\"background-color: #ffffff\">読み</span><span style=\"background-color: #faffff\">すすめ</span><span style=\"background-color: #ffffff\">られる</span><span style=\"background-color: #ffffff\">文章</span><span style=\"background-color: #ffffff\">で</span><span style=\"background-color: #f6ffff\">、</span><span style=\"background-color: #feffff\">自分自身</span><span style=\"background-color: #ffffff\">を</span><span style=\"background-color: #ffffff\">愛</span><span style=\"background-color: #ffffff\">する事</span><span style=\"background-color: #ffffff\">の</span><span style=\"background-color: #ffffff\">大</span><span style=\"background-color: #ffffff\">切</span><span style=\"background-color: #feffff\">さを</span><span style=\"background-color: #f7ffff\">私</span><span style=\"background-color: #ffffff\">達</span><span style=\"background-color: #ffffff\">に</span><span style=\"background-color: #ffffff\">教え</span><span style=\"background-color: #c7ffff\">てくれ</span><span style=\"background-color: #43ffff\">ています</span><span style=\"background-color: #f5ffff\">。</span><span style=\"background-color: #feffff\">夢</span><span style=\"background-color: #ffffff\">が</span><span style=\"background-color: #ffffff\">叶</span><span style=\"background-color: #ffffff\">う</span><span style=\"background-color: #fcffff\">“</span><span style=\"background-color: #ffffff\">3</span><span style=\"background-color: #ffffff\">つの</span><span style=\"background-color: #f0ffff\">魔法</span><span style=\"background-color: #f8ffff\">”</span><span style=\"background-color: #feffff\">は</span><span style=\"background-color: #f6ffff\">、</span><span style=\"background-color: #ffffff\">どれ</span><span style=\"background-color: #ffffff\">も</span><span style=\"background-color: #ffffff\">難しい</span><span style=\"background-color: #ffffff\">こと</span><span style=\"background-color: #ffffff\">ではなく</span><span style=\"background-color: #f5ffff\">、</span><span style=\"background-color: #ffffff\">すぐに</span><span style=\"background-color: #fcffff\">実践</span><span style=\"background-color: #fbffff\">することができる</span><span style=\"background-color: #ffffff\">から</span><span style=\"background-color: #f4ffff\">奇跡</span><span style=\"background-color: #feffff\">を起こす</span><span style=\"background-color: #ffffff\">の</span><span style=\"background-color: #ffffff\">って</span><span style=\"background-color: #fbffff\">案</span><span style=\"background-color: #ffffff\">外</span><span style=\"background-color: #efffff\">簡単</span><span style=\"background-color: #ffffff\">か</span><span style=\"background-color: #fdffff\">も</span><span style=\"background-color: #f8ffff\">?</span><span style=\"background-color: #dbffff\">!</span><span style=\"background-color: #f7ffff\">▁</span><span style=\"background-color: #ffffff\">読む</span><span style=\"background-color: #ffffff\">だけで</span><span style=\"background-color: #ffffff\">すぐに</span><span style=\"background-color: #fcffff\">ハッピー</span><span style=\"background-color: #ffffff\">な</span><span style=\"background-color: #feffff\">気分</span><span style=\"background-color: #fdffff\">になれ</span><span style=\"background-color: #ffffff\">ちゃ</span><span style=\"background-color: #ffffff\">う</span><span style=\"background-color: #ffffff\">の</span><span style=\"background-color: #feffff\">で</span><span style=\"background-color: #f5ffff\">、</span><span style=\"background-color: #fcffff\">自分自身</span><span style=\"background-color: #ffffff\">に</span><span style=\"background-color: #f5ffff\">魔法</span><span style=\"background-color: #ffffff\">をかけて</span><span style=\"background-color: #f2ffff\">、</span><span style=\"background-color: #ffffff\">大</span><span style=\"background-color: #feffff\">好きな</span><span style=\"background-color: #ffffff\">人に</span><span style=\"background-color: #fdffff\">世界一</span><span style=\"background-color: #feffff\">愛</span><span style=\"background-color: #ffffff\">される</span><span style=\"background-color: #c0ffff\">女子</span><span style=\"background-color: #feffff\">を目指して</span><span style=\"background-color: #ffffff\">み</span><span style=\"background-color: #fbffff\">ません</span><span style=\"background-color: #ffffff\">か</span><span style=\"background-color: #e4ffff\">?</span><span style=\"background-color: #00ffff\">■</span><span style=\"background-color: #dbffff\">関連</span><span style=\"background-color: #f3ffff\">リンク</span><span style=\"background-color: #73ffff\">shop</span><span style=\"background-color: #f9ffff\">.</span><span style=\"background-color: #ffffff\">学</span><span style=\"background-color: #ffffff\">研</span><span style=\"background-color: #f1ffff\">-</span><span style=\"background-color: #edffff\">-</span><span style=\"background-color: #efffff\">-</span><span style=\"background-color: #f9ffff\">-</span><span style=\"background-color: #fcffff\">-</span><span style=\"background-color: #fbffff\">-</span><span style=\"background-color: #fcffff\">-</span><span style=\"background-color: #fbffff\">-</span><span style=\"background-color: #f9ffff\">-</span><span style=\"background-color: #f8ffff\">-</span><span style=\"background-color: #e5ffff\">-</span><span style=\"background-color: #f5ffff\">-</span><span style=\"background-color: #f6ffff\">-</span><span style=\"background-color: #f9ffff\">-</span><span style=\"background-color: #e9ffff\">-</span><span style=\"background-color: #f5ffff\">-</span><span style=\"background-color: #e9ffff\">-</span><span style=\"background-color: #f8ffff\">-</span><span style=\"background-color: #feffff\">-</span><span style=\"background-color: #fdffff\">-</span><span style=\"background-color: #f3ffff\">-</span><span style=\"background-color: #faffff\">-</span><span style=\"background-color: #f6ffff\">-</span><span style=\"background-color: #f7ffff\">-</span><span style=\"background-color: #f6ffff\">-</span><span style=\"background-color: #f0ffff\">-</span><span style=\"background-color: #ebffff\">-</span><span style=\"background-color: #f0ffff\">-</span><span style=\"background-color: #f7ffff\">-</span><span style=\"background-color: #f6ffff\">-</span><span style=\"background-color: #f6ffff\">-</span><span style=\"background-color: #f1ffff\">-</span><span style=\"background-color: #f5ffff\">-</span><span style=\"background-color: #f3ffff\">-</span><span style=\"background-color: #f3ffff\">-</span><span style=\"background-color: #f5ffff\">-</span><span style=\"background-color: #f6ffff\">-</span><span style=\"background-color: #fbffff\">-</span><span style=\"background-color: #f9ffff\">-</span><span style=\"background-color: #f9ffff\">-</span><span style=\"background-color: #ecffff\">-</span><span style=\"background-color: #f3ffff\">-</span><span style=\"background-color: #f6ffff\">-</span><span style=\"background-color: #f9ffff\">-</span><span style=\"background-color: #f0ffff\">-</span><span style=\"background-color: #f8ffff\">-</span><span style=\"background-color: #f9ffff\">-</span><span style=\"background-color: #f6ffff\">-</span><span style=\"background-color: #f5ffff\">-</span><span style=\"background-color: #e0ffff\">-</span><span style=\"background-color: #ebffff\">-</span><span style=\"background-color: #f3ffff\">-</span><span style=\"background-color: #fbffff\">-</span><span style=\"background-color: #f7ffff\">-</span><span style=\"background-color: #f7ffff\">-</span><span style=\"background-color: #f1ffff\">-</span><span style=\"background-color: #f3ffff\">-</span><span style=\"background-color: #f2ffff\">-</span><span style=\"background-color: #f0ffff\">-</span><span style=\"background-color: #efffff\">-</span><span style=\"background-color: #faffff\">-</span><span style=\"background-color: #e9ffff\">-</span><span style=\"background-color: #f9ffff\">-</span><span style=\"background-color: #fbffff\">-</span><span style=\"background-color: #fbffff\">-</span><span style=\"background-color: #f7ffff\">-</span><span style=\"background-color: #edffff\">-</span><span style=\"background-color: #f7ffff\">-</span><span style=\"background-color: #faffff\">-</span><span style=\"background-color: #fcffff\">-</span><span style=\"background-color: #fcffff\">-</span><span style=\"background-color: #f8ffff\">-</span><span style=\"background-color: #fcffff\">-</span><span style=\"background-color: #f6ffff\">-</span><span style=\"background-color: #f7ffff\">-</span><span style=\"background-color: #f6ffff\">-</span><span style=\"background-color: #e9ffff\">-</span><span style=\"background-color: #f6ffff\">-</span><span style=\"background-color: #e0ffff\">-</span><span style=\"background-color: #f2ffff\">-</span><span style=\"background-color: #f1ffff\">-</span><span style=\"background-color: #f8ffff\">-</span><span style=\"background-color: #f5ffff\">-</span><span style=\"background-color: #f9ffff\">-</span><span style=\"background-color: #eeffff\">-</span><span style=\"background-color: #eeffff\">-</span><span style=\"background-color: #ecffff\">-</span><span style=\"background-color: #d8ffff\">-</span><span style=\"background-color: #e8ffff\">-</span><span style=\"background-color: #f2ffff\">-</span>"
      ],
      "text/plain": [
       "<IPython.core.display.HTML object>"
      ]
     },
     "metadata": {},
     "output_type": "display_data"
    },
    {
     "name": "stdout",
     "output_type": "stream",
     "text": [
      "\n"
     ]
    }
   ],
   "source": [
    "from IPython.display import HTML, display\n",
    "\n",
    "for i in range(start, end):\n",
    "    attention = attentions\n",
    "    df = df_test.reset_index(drop=True).loc[i]\n",
    "    df = [d for d in df.values[1:]]\n",
    "    df = pd.DataFrame(df).T.rename(columns={0: 'id', 1: 'token'})\n",
    "    df['attention'] = attention[i].cpu().detach().numpy()\n",
    "    mean = df['attention'].mean()\n",
    "    std = df['attention'].std()\n",
    "    df['normalized_attention'] = (df['attention'] - mean) / std\n",
    "    vmax = df['normalized_attention'].max()\n",
    "    vmin = df['normalized_attention'].min()\n",
    "    df['normalized_attention'] = (df['normalized_attention'] - vmin) / (vmax - vmin)\n",
    "    pclass = list(list_dir.keys())[preds[i]]\n",
    "    tclass = list(list_dir.keys())[labels[i]]\n",
    "    print('predict class is %s'%pclass)\n",
    "    print('ground truth class is %s'%tclass)\n",
    "\n",
    "    mean = df['normalized_attention'].mean()\n",
    "    std = df['normalized_attention'].std()\n",
    "    html_output = ''\n",
    "    for idx, row in df.iterrows():\n",
    "        color = hex(255 - int(row['normalized_attention'] * 255))[2:]\n",
    "        color = ('%sffff'%color).zfill(6)\n",
    "        html_output += '<span style=\"background-color: #%s\">%s</span>'%(color, row['token'])\n",
    "\n",
    "    display(HTML(html_output))\n",
    "    print()"
   ]
  }
 ],
 "metadata": {
  "kernelspec": {
   "display_name": "Python 3",
   "language": "python",
   "name": "python3"
  },
  "language_info": {
   "codemirror_mode": {
    "name": "ipython",
    "version": 3
   },
   "file_extension": ".py",
   "mimetype": "text/x-python",
   "name": "python",
   "nbconvert_exporter": "python",
   "pygments_lexer": "ipython3",
   "version": "3.8.1"
  }
 },
 "nbformat": 4,
 "nbformat_minor": 4
}
